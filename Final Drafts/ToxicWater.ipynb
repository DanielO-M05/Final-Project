{
 "cells": [
  {
   "cell_type": "markdown",
   "metadata": {},
   "source": [
    "# Toxic Chemical Releases in Bodies of Water"
   ]
  },
  {
   "cell_type": "markdown",
   "metadata": {},
   "source": [
    "The best neighborhood in Pittsburgh is determined by the neighborhood with the least amount of toxic releases into the rivers and streams of Pittsburgh. "
   ]
  },
  {
   "cell_type": "markdown",
   "metadata": {},
   "source": [
    "### What makes it the \"best\" neighborhood?"
   ]
  },
  {
   "cell_type": "markdown",
   "metadata": {},
   "source": [
    "The best neighborhood is determined by the least amount of individual chemical releases and the least total pounds of all the releases combined. When calculating the amount of individual chemical releases and comparing the 10 lowest to all of the total pounds released, every neighborhood in the lowest 10 has zero pounds of reported chemical releases. This means, we do not need to take the total pounds into account when finding the 10 best neighborhoods.\n",
    "\n",
    "Now that the criteria is determined, we can look at the math behind determining the rating for each of the top 10 neighborhoods based on least water releases. The \n",
    "\n",
    "release_percentage = 1 - (town_releases/total_releases)\n",
    "\n",
    "water_rating = 100 * release_percentage "
   ]
  }
 ],
 "metadata": {
  "kernelspec": {
   "display_name": "Python 3",
   "language": "python",
   "name": "python3"
  },
  "language_info": {
   "codemirror_mode": {
    "name": "ipython",
    "version": 3
   },
   "file_extension": ".py",
   "mimetype": "text/x-python",
   "name": "python",
   "nbconvert_exporter": "python",
   "pygments_lexer": "ipython3",
   "version": "3.8.3"
  }
 },
 "nbformat": 4,
 "nbformat_minor": 4
}
