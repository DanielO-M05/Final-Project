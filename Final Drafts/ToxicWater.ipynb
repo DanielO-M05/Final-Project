{
 "cells": [
  {
   "cell_type": "markdown",
   "metadata": {},
   "source": [
    "# Toxic Chemical Releases in Bodies of Water"
   ]
  },
  {
   "cell_type": "markdown",
   "metadata": {},
   "source": [
    "The best neighborhood in Pittsburgh is determined by the neighborhood with the least amount of toxic releases into the rivers and streams of Pittsburgh. "
   ]
  },
  {
   "cell_type": "markdown",
   "metadata": {},
   "source": [
    "### What makes it the \"best\" neighborhood?"
   ]
  },
  {
   "cell_type": "markdown",
   "metadata": {},
   "source": [
    "The best neighborhood is determined by the least amount of individual chemical releases and the least total pounds of all the releases combined. When calculating the amount of individual chemical releases and comparing the 10 lowest to all of the total pounds released, every neighborhood in the lowest 10 has zero pounds of reported chemical releases. This means, we do not need to take the total pounds into account when finding the 10 best neighborhoods.\n",
    "\n",
    "Now that the criteria is determined, we can look at the math behind determining the rating for each of the top 10 neighborhoods based on least water releases. The \n",
    "\n",
    "release_percentage = 1 - (town_releases/total_releases)\n",
    "\n",
    "water_rating = 100 * release_percentage "
   ]
  },
  {
   "cell_type": "code",
   "execution_count": 2,
   "metadata": {},
   "outputs": [],
   "source": [
    "import pandas as pd\n",
    "import numpy as np\n",
    "\n",
    "waterReleases = pd.read_csv(\"WaterReleases.csv\", index_col=\"_id\")"
   ]
  },
  {
   "cell_type": "code",
   "execution_count": 3,
   "metadata": {},
   "outputs": [
    {
     "name": "stdout",
     "output_type": "stream",
     "text": [
      "These are the cities with the least toxic water emmissions in Allegheny county\n"
     ]
    },
    {
     "data": {
      "text/plain": [
       "MONONGAHELA         1\n",
       "SOUTH PARK          2\n",
       "TARENTUM            3\n",
       "NEVILLE ISLAND      5\n",
       "SHARPSBURG          6\n",
       "DRAVOSBURG          7\n",
       "BLAWNOX            10\n",
       "CLINTON            12\n",
       "LIBERTY BOROUGH    19\n",
       "RANKIN             20\n",
       "Name: CITY_NAME, dtype: int64"
      ]
     },
     "execution_count": 3,
     "metadata": {},
     "output_type": "execute_result"
    }
   ],
   "source": [
    "leastReleaseCities = waterReleases['CITY_NAME'].value_counts().sort_values(ascending=True)\n",
    "\n",
    "print(\"These are the cities with the least toxic water emmissions in Allegheny county\")\n",
    "leastReleaseCities.head(10)"
   ]
  },
  {
   "cell_type": "code",
   "execution_count": 6,
   "metadata": {},
   "outputs": [
    {
     "name": "stdout",
     "output_type": "stream",
     "text": [
      "{'MONONGAHELA': 1, 'SOUTH PARK': 2, 'TARENTUM': 3, 'NEVILLE ISLAND': 5, 'SHARPSBURG': 6, 'DRAVOSBURG': 7, 'BLAWNOX': 10, 'CLINTON': 12, 'LIBERTY BOROUGH': 19, 'RANKIN': 20, 'MCKEESPORT': 36, 'HEIDELBERG': 37, 'EAST PITTSBURGH': 44, 'HOMESTEAD': 48, 'WEST ELIZABETH': 51, 'GLASSPORT': 58, 'DUQUESNE': 60, 'GIBSONIA': 71, 'CHESWICK': 76, 'WILMERDING': 79, 'TURTLE CREEK': 83, 'BAKERSTOWN': 91, 'MC DONALD': 95, 'MONROEVILLE': 112, 'CREIGHTON': 113, 'VERONA': 120, 'BUNOLA': 121, 'OAKDALE': 131, 'MUNHALL': 161, 'MC KEES ROCKS': 166, 'SEWICKLEY': 171, 'NATRONA HEIGHTS': 172, 'GLENSHAW': 183, 'OAKMONT': 185, 'CARNEGIE': 228, 'LEETSDALE': 231, 'HARWICK': 314, 'MC KEESPORT': 329, 'INDIANOLA': 353, 'CORAOPOLIS': 363, 'WEST MIFFLIN': 484, 'BRACKENRIDGE': 541, 'JEFFERSON HILLS': 634, 'BRADDOCK': 703, 'BRIDGEVILLE': 744, 'SPRINGDALE': 1407, 'CLAIRTON': 1872, 'PITTSBURGH': 4981}\n",
      "{'MONONGAHELA': 99.99364393313418, 'SOUTH PARK': 99.98728786626835, 'TARENTUM': 99.98093179940253, 'NEVILLE ISLAND': 99.96821966567089, 'SHARPSBURG': 99.96186359880505, 'DRAVOSBURG': 99.95550753193923, 'BLAWNOX': 99.93643933134176, 'CLINTON': 99.92372719761012, 'LIBERTY BOROUGH': 99.87923472954935, 'RANKIN': 99.87287866268353, 'MCKEESPORT': 99.77118159283036, 'HEIDELBERG': 99.76482552596453, 'EAST PITTSBURGH': 99.72033305790376, 'HOMESTEAD': 99.69490879044048, 'WEST ELIZABETH': 99.675840589843, 'GLASSPORT': 99.63134812178224, 'DUQUESNE': 99.6186359880506, 'GIBSONIA': 99.54871925252654, 'CHESWICK': 99.51693891819741, 'WILMERDING': 99.49787071759995, 'TURTLE CREEK': 99.47244645013666, 'BAKERSTOWN': 99.42159791521007, 'MC DONALD': 99.39617364774678, 'MONROEVILLE': 99.28812051102778, 'CREIGHTON': 99.28176444416195, 'VERONA': 99.2372719761012, 'BUNOLA': 99.23091590923536, 'OAKDALE': 99.16735524057712, 'MUNHALL': 98.97667323460243, 'MC KEES ROCKS': 98.9448929002733, 'SEWICKLEY': 98.91311256594419, 'NATRONA HEIGHTS': 98.90675649907837, 'GLENSHAW': 98.83683976355431, 'OAKMONT': 98.82412762982267, 'CARNEGIE': 98.55081675459226, 'LEETSDALE': 98.53174855399479, 'HARWICK': 98.00419500413145, 'MC KEESPORT': 97.90885400114409, 'INDIANOLA': 97.75630839636433, 'CORAOPOLIS': 97.69274772770609, 'WEST MIFFLIN': 96.92366363694146, 'BRACKENRIDGE': 96.56136782558953, 'JEFFERSON HILLS': 95.97025360706795, 'BRADDOCK': 95.53168499332612, 'BRIDGEVILLE': 95.27108625182737, 'SPRINGDALE': 91.05701391978643, 'CLAIRTON': 88.10144282717854, 'PITTSBURGH': 68.34043094133351}\n",
      "{'MONONGAHELA': 99.99364393313418, 'SOUTH PARK': 99.98728786626835, 'TARENTUM': 99.98093179940253, 'NEVILLE ISLAND': 99.96821966567089, 'SHARPSBURG': 99.96186359880505, 'DRAVOSBURG': 99.95550753193923, 'BLAWNOX': 99.93643933134176, 'CLINTON': 99.92372719761012, 'LIBERTY BOROUGH': 99.87923472954935, 'RANKIN': 99.87287866268353, 'MCKEESPORT': 99.77118159283036, 'HEIDELBERG': 99.76482552596453, 'EAST PITTSBURGH': 99.72033305790376, 'HOMESTEAD': 99.69490879044048, 'WEST ELIZABETH': 99.675840589843, 'GLASSPORT': 99.63134812178224, 'DUQUESNE': 99.6186359880506, 'GIBSONIA': 99.54871925252654, 'CHESWICK': 99.51693891819741, 'WILMERDING': 99.49787071759995, 'TURTLE CREEK': 99.47244645013666, 'BAKERSTOWN': 99.42159791521007, 'MC DONALD': 99.39617364774678, 'MONROEVILLE': 99.28812051102778, 'CREIGHTON': 99.28176444416195, 'VERONA': 99.2372719761012, 'BUNOLA': 99.23091590923536, 'OAKDALE': 99.16735524057712, 'MUNHALL': 98.97667323460243, 'MC KEES ROCKS': 98.9448929002733, 'SEWICKLEY': 98.91311256594419, 'NATRONA HEIGHTS': 98.90675649907837, 'GLENSHAW': 98.83683976355431, 'OAKMONT': 98.82412762982267, 'CARNEGIE': 98.55081675459226, 'LEETSDALE': 98.53174855399479, 'HARWICK': 98.00419500413145, 'MC KEESPORT': 97.90885400114409, 'INDIANOLA': 97.75630839636433, 'CORAOPOLIS': 97.69274772770609, 'WEST MIFFLIN': 96.92366363694146, 'BRACKENRIDGE': 96.56136782558953, 'JEFFERSON HILLS': 95.97025360706795, 'BRADDOCK': 95.53168499332612, 'BRIDGEVILLE': 95.27108625182737, 'SPRINGDALE': 91.05701391978643, 'CLAIRTON': 88.10144282717854, 'PITTSBURGH': 68.34043094133351}\n",
      "Stored 'water_ratings' (dict)\n"
     ]
    }
   ],
   "source": [
    "total_water_releases = 0\n",
    "town_releases = 0\n",
    "release_percentage = 0\n",
    "percentage_rating = 0\n",
    "count = 0\n",
    "total_releases = {}\n",
    "water_ratings = {}\n",
    "\n",
    "for town_releases in leastReleaseCities:\n",
    "    total_water_releases = town_releases + total_water_releases\n",
    "\n",
    "for index, row in waterReleases.iterrows():\n",
    "    \n",
    "    if row['CITY_NAME'] in total_releases:\n",
    "        total_releases[row['CITY_NAME']] += 1\n",
    "    else:\n",
    "        total_releases[row['CITY_NAME']] = 1\n",
    "    \n",
    "sorted_total_releases = sorted(total_releases.items(), key=lambda x:x[1])\n",
    "total_releases = dict(sorted_total_releases)\n",
    "\n",
    "print(total_releases)\n",
    "\n",
    "for val in total_releases:\n",
    "    \n",
    "    release_percentage = 1 - (total_releases[val]/total_water_releases)\n",
    "    percentage_rating = 100 * release_percentage\n",
    "    total_releases[val] = percentage_rating\n",
    "    \n",
    "    \n",
    "print(total_releases)\n",
    "\n",
    "water_ratings = total_releases\n",
    "\n",
    "%store water_ratings"
   ]
  },
  {
   "cell_type": "code",
   "execution_count": null,
   "metadata": {},
   "outputs": [],
   "source": []
  }
 ],
 "metadata": {
  "kernelspec": {
   "display_name": "Python 3",
   "language": "python",
   "name": "python3"
  },
  "language_info": {
   "codemirror_mode": {
    "name": "ipython",
    "version": 3
   },
   "file_extension": ".py",
   "mimetype": "text/x-python",
   "name": "python",
   "nbconvert_exporter": "python",
   "pygments_lexer": "ipython3",
   "version": "3.8.3"
  }
 },
 "nbformat": 4,
 "nbformat_minor": 4
}
