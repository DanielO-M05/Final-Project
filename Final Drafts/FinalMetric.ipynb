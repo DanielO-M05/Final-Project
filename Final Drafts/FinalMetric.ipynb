{
 "cells": [
  {
   "cell_type": "markdown",
   "metadata": {},
   "source": [
    "# The Best Neighborhood in Pittsburgh"
   ]
  },
  {
   "cell_type": "markdown",
   "metadata": {},
   "source": [
    "### Introduction\n",
    "\n",
    "In this project, our group, [group_name], created a metric to find the \"best\" neighborhood in Pittsburgh. Using databases that measure toxic water releases, [Jacob_data], baseball field listings and 2020 census data, we each made our own submetrics that find the best neighborhood in that particular regard. In this presentation, we'll go over each individual submetric, and explain how these metrics were combined for the final metric"
   ]
  },
  {
   "cell_type": "markdown",
   "metadata": {},
   "source": [
    "### The Metric"
   ]
  },
  {
   "cell_type": "markdown",
   "metadata": {},
   "source": [
    "Combining these submetrics we just explained, we can find the best neighborhood using a weighted average of the form:"
   ]
  },
  {
   "cell_type": "markdown",
   "metadata": {},
   "source": [
    "```rating = w1*(water_rating) + w2*([school_rating]) +  w3*(baseball_rating)```"
   ]
  },
  {
   "cell_type": "markdown",
   "metadata": {},
   "source": [
    "We decided that the most important metric was toxic water releases, followed by education, followed by baseball fields. As such, ```w1 = .5, w2 = .3, w3 = .2```, resulting in the final formula:"
   ]
  },
  {
   "cell_type": "markdown",
   "metadata": {},
   "source": [
    "```rating = .5*(water_rating) + .3*([school_rating]) +  .2*(baseball_rating)```"
   ]
  },
  {
   "cell_type": "markdown",
   "metadata": {},
   "source": [
    "### The Results"
   ]
  },
  {
   "cell_type": "code",
   "execution_count": 52,
   "metadata": {},
   "outputs": [
    {
     "name": "stdout",
     "output_type": "stream",
     "text": [
      "{'Allegheny Center': 1234, 'Allegheny West': 1234, 'Allentown': 1234, 'Arlington - Arlington Heights (Combined)': 1234, 'Banksville': 1234, 'Bedford Dwellings': 1234, 'Beechview': 1234, 'Beltzhoover': 1234, 'Bloomfield': 1234, 'Bluff': 1234, 'Bon Air': 1234, 'Brighton Heights': 1234, 'Brookline': 1234, 'California-Kirkbride': 1234, 'Carrick': 1234, 'Central Business District (Downtown)': 1234, 'Central Lawrenceville': 1234, 'Central Northside': 1234, 'Central Oakland': 1234, 'Chartiers City': 1234, 'Chateau': 1234, 'Crafton Heights': 1234, 'Crawford-Roberts': 1234, 'Duquesne Heights': 1234, 'East Allegheny': 1234, 'East Carnegie': 1234, 'East Hills': 1234, 'East Liberty': 1234, 'Elliott': 1234, 'Esplen': 1234, 'Fairywood': 1234, 'Fineview': 1234, 'Friendship': 1234, 'Garfield': 1234, 'Glen Hazel': 1234, 'Greenfield': 1234, 'Hays': 1234, 'Hazelwood': 1234, 'Highland Park': 1234, 'Homewood North': 1234, 'Homewood South': 1234, 'Homewood West': 1234, 'Knoxville': 1234, 'Larimer': 1234, 'Lincoln Place': 1234, 'Lincoln-Lemington-Belmar': 1234, 'Lower Lawrenceville': 1234, 'Manchester': 1234, 'Marshall-Shadeland': 1234, 'Middle Hill': 1234, 'Morningside': 1234, 'Mount Washington': 1234, 'Mt. Oliver': 1234, 'New Homestead': 1234, 'North Oakland': 1234, 'North Shore': 1234, 'Northview Heights': 1234, 'Oakwood': 1234, 'Overbrook': 1234, 'Perry North': 1234, 'Perry South': 1234, 'Point Breeze': 1234, 'Point Breeze North': 1234, 'Polish Hill': 1234, 'Regent Square': 1234, 'Ridgemont': 1234, 'Shadyside': 1234, 'Sheraden': 1234, 'South Oakland': 1234, 'South Shore': 1234, 'South Side Flats': 1234, 'South Side Slopes': 1234, 'Spring Garden': 1234, 'Spring Hill-City': 1234, 'Squirrel Hill North': 1234, 'Squirrel Hill South': 1234, 'St. Clair': 1234, 'Stanton Heights': 1234, 'Strip District': 1234, 'Summer Hill': 1234, 'Swisshelm Park': 1234, 'Terrace Village': 1234, 'Troy Hill': 1234, 'Upper Hill': 1234, 'Upper Lawrenceville': 1234, 'West End': 1234, 'West Oakland': 1234, 'Westwood': 1234, 'Windgap': 1234}\n"
     ]
    }
   ],
   "source": [
    "# Write code here that graphs best neighborhoods\n",
    "import pandas as pd\n",
    "import numpy as np\n",
    "hoods = pd.read_csv(\"neighborhoods.csv\")\n",
    "%matplotlib inline\n",
    "import matplotlib.pyplot as plt\n",
    "\n",
    "# Put your stored variables here\n",
    "%store -r scores\n",
    "%store -r bestRate\n",
    "%store -r water_rating\n",
    "\n",
    "# Formatting Baseball Data\n",
    "bases = [None] * len(scores)\n",
    "for i in range(len(scores)):\n",
    "    bases[i] = (scores[i][0], scores[i][1]/bestRate*100)\n",
    "#print(bases) # Delete if needed\n",
    "\n",
    "finalScores = {}\n",
    "\n",
    "for index, row in hoods.iterrows():\n",
    "    finalScores[row['Neighborhood']] = 1234 #Change 1234 to the weighted avg formula\n",
    "    \n",
    "print(finalScores)\n",
    "\n",
    "\n",
    "\n",
    "\n",
    "\n",
    "\n",
    "\n",
    "\n"
   ]
  },
  {
   "cell_type": "markdown",
   "metadata": {},
   "source": [
    "### Conclusion \n",
    "Reflect on how the data driven determination of “best neighborhood” is the same or different from your personal favorite neighborhood. Also on how it differs from the submetrics and why."
   ]
  },
  {
   "cell_type": "code",
   "execution_count": null,
   "metadata": {},
   "outputs": [],
   "source": []
  }
 ],
 "metadata": {
  "kernelspec": {
   "display_name": "Python 3",
   "language": "python",
   "name": "python3"
  },
  "language_info": {
   "codemirror_mode": {
    "name": "ipython",
    "version": 3
   },
   "file_extension": ".py",
   "mimetype": "text/x-python",
   "name": "python",
   "nbconvert_exporter": "python",
   "pygments_lexer": "ipython3",
   "version": "3.8.3"
  }
 },
 "nbformat": 4,
 "nbformat_minor": 4
}
