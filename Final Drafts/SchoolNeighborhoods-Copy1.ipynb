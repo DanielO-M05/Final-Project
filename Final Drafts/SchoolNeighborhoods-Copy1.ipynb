{
 "cells": [
  {
   "cell_type": "code",
   "execution_count": 19,
   "metadata": {},
   "outputs": [
    {
     "name": "stdout",
     "output_type": "stream",
     "text": [
      "           neighborhood  enrolled_students\n",
      "14              Carrick               1276\n",
      "12            Brookline               1169\n",
      "6             Beechview                794\n",
      "67             Sheraden                694\n",
      "74  Squirrel Hill South                679\n",
      "..                  ...                ...\n",
      "65          Saint Clair                 25\n",
      "64            Ridgemont                 20\n",
      "33      Golden Triangle                 18\n",
      "17      Central Oakland                 16\n",
      "54        North Oakland                 11\n",
      "\n",
      "[87 rows x 2 columns]\n"
     ]
    }
   ],
   "source": [
    "\n",
    "\n",
    "import pandas as pd\n",
    "import numpy as np\n",
    "\n",
    "enrollment = pd.read_csv(\"Enrollment.csv\")\n",
    "\n",
    "\n",
    "sum_of_enrollment_by_neighborhood = enrollment.groupby('neighborhood')['enrolled_students'].sum()\n",
    "\n",
    "\n",
    "sum_of_enrollment_by_neighborhood_df = sum_of_enrollment_by_neighborhood.reset_index()\n",
    "sorted_sum_of_enrollment = sum_of_enrollment_by_neighborhood_df.sort_values(by='enrolled_students', ascending=False)\n",
    "\n",
    "\n",
    "print(sorted_sum_of_enrollment)\n",
    "\n"
   ]
  },
  {
   "cell_type": "markdown",
   "metadata": {},
   "source": [
    "**School Enrollment**\n",
    "\n",
    "Dependent on the wants of the consumer, different sizes of the schools populations may appeal to different consumers, but if the consumer were to want the neighborhood based on the the highest enrollment the top five neighbohoods would be Carrick, Brookline, Beechview, Sheraden, and Squirell Hill South. "
   ]
  },
  {
   "cell_type": "code",
   "execution_count": 1,
   "metadata": {},
   "outputs": [
    {
     "ename": "FileNotFoundError",
     "evalue": "[Errno 2] No such file or directory: 'iep.csv'",
     "output_type": "error",
     "traceback": [
      "\u001b[0;31m---------------------------------------------------------------------------\u001b[0m",
      "\u001b[0;31mFileNotFoundError\u001b[0m                         Traceback (most recent call last)",
      "\u001b[0;32m<ipython-input-1-c27e48d13d39>\u001b[0m in \u001b[0;36m<module>\u001b[0;34m\u001b[0m\n\u001b[1;32m      2\u001b[0m \u001b[0;32mimport\u001b[0m \u001b[0mnumpy\u001b[0m \u001b[0;32mas\u001b[0m \u001b[0mnp\u001b[0m\u001b[0;34m\u001b[0m\u001b[0;34m\u001b[0m\u001b[0m\n\u001b[1;32m      3\u001b[0m \u001b[0;34m\u001b[0m\u001b[0m\n\u001b[0;32m----> 4\u001b[0;31m \u001b[0miep\u001b[0m \u001b[0;34m=\u001b[0m \u001b[0mpd\u001b[0m\u001b[0;34m.\u001b[0m\u001b[0mread_csv\u001b[0m\u001b[0;34m(\u001b[0m\u001b[0;34m\"iep.csv\"\u001b[0m\u001b[0;34m)\u001b[0m\u001b[0;34m\u001b[0m\u001b[0;34m\u001b[0m\u001b[0m\n\u001b[0m\u001b[1;32m      5\u001b[0m \u001b[0;34m\u001b[0m\u001b[0m\n\u001b[1;32m      6\u001b[0m \u001b[0miep\u001b[0m\u001b[0;34m[\u001b[0m\u001b[0;34m'gifted_and_iep'\u001b[0m\u001b[0;34m]\u001b[0m \u001b[0;34m=\u001b[0m \u001b[0miep\u001b[0m\u001b[0;34m[\u001b[0m\u001b[0;34m'gifted'\u001b[0m\u001b[0;34m]\u001b[0m \u001b[0;34m+\u001b[0m \u001b[0miep\u001b[0m\u001b[0;34m[\u001b[0m\u001b[0;34m'other_iep'\u001b[0m\u001b[0;34m]\u001b[0m\u001b[0;34m\u001b[0m\u001b[0;34m\u001b[0m\u001b[0m\n",
      "\u001b[0;32m/opt/tljh/user/lib/python3.8/site-packages/pandas/util/_decorators.py\u001b[0m in \u001b[0;36mwrapper\u001b[0;34m(*args, **kwargs)\u001b[0m\n\u001b[1;32m    309\u001b[0m                     \u001b[0mstacklevel\u001b[0m\u001b[0;34m=\u001b[0m\u001b[0mstacklevel\u001b[0m\u001b[0;34m,\u001b[0m\u001b[0;34m\u001b[0m\u001b[0;34m\u001b[0m\u001b[0m\n\u001b[1;32m    310\u001b[0m                 )\n\u001b[0;32m--> 311\u001b[0;31m             \u001b[0;32mreturn\u001b[0m \u001b[0mfunc\u001b[0m\u001b[0;34m(\u001b[0m\u001b[0;34m*\u001b[0m\u001b[0margs\u001b[0m\u001b[0;34m,\u001b[0m \u001b[0;34m**\u001b[0m\u001b[0mkwargs\u001b[0m\u001b[0;34m)\u001b[0m\u001b[0;34m\u001b[0m\u001b[0;34m\u001b[0m\u001b[0m\n\u001b[0m\u001b[1;32m    312\u001b[0m \u001b[0;34m\u001b[0m\u001b[0m\n\u001b[1;32m    313\u001b[0m         \u001b[0;32mreturn\u001b[0m \u001b[0mwrapper\u001b[0m\u001b[0;34m\u001b[0m\u001b[0;34m\u001b[0m\u001b[0m\n",
      "\u001b[0;32m/opt/tljh/user/lib/python3.8/site-packages/pandas/io/parsers/readers.py\u001b[0m in \u001b[0;36mread_csv\u001b[0;34m(filepath_or_buffer, sep, delimiter, header, names, index_col, usecols, squeeze, prefix, mangle_dupe_cols, dtype, engine, converters, true_values, false_values, skipinitialspace, skiprows, skipfooter, nrows, na_values, keep_default_na, na_filter, verbose, skip_blank_lines, parse_dates, infer_datetime_format, keep_date_col, date_parser, dayfirst, cache_dates, iterator, chunksize, compression, thousands, decimal, lineterminator, quotechar, quoting, doublequote, escapechar, comment, encoding, encoding_errors, dialect, error_bad_lines, warn_bad_lines, on_bad_lines, delim_whitespace, low_memory, memory_map, float_precision, storage_options)\u001b[0m\n\u001b[1;32m    678\u001b[0m     \u001b[0mkwds\u001b[0m\u001b[0;34m.\u001b[0m\u001b[0mupdate\u001b[0m\u001b[0;34m(\u001b[0m\u001b[0mkwds_defaults\u001b[0m\u001b[0;34m)\u001b[0m\u001b[0;34m\u001b[0m\u001b[0;34m\u001b[0m\u001b[0m\n\u001b[1;32m    679\u001b[0m \u001b[0;34m\u001b[0m\u001b[0m\n\u001b[0;32m--> 680\u001b[0;31m     \u001b[0;32mreturn\u001b[0m \u001b[0m_read\u001b[0m\u001b[0;34m(\u001b[0m\u001b[0mfilepath_or_buffer\u001b[0m\u001b[0;34m,\u001b[0m \u001b[0mkwds\u001b[0m\u001b[0;34m)\u001b[0m\u001b[0;34m\u001b[0m\u001b[0;34m\u001b[0m\u001b[0m\n\u001b[0m\u001b[1;32m    681\u001b[0m \u001b[0;34m\u001b[0m\u001b[0m\n\u001b[1;32m    682\u001b[0m \u001b[0;34m\u001b[0m\u001b[0m\n",
      "\u001b[0;32m/opt/tljh/user/lib/python3.8/site-packages/pandas/io/parsers/readers.py\u001b[0m in \u001b[0;36m_read\u001b[0;34m(filepath_or_buffer, kwds)\u001b[0m\n\u001b[1;32m    573\u001b[0m \u001b[0;34m\u001b[0m\u001b[0m\n\u001b[1;32m    574\u001b[0m     \u001b[0;31m# Create the parser.\u001b[0m\u001b[0;34m\u001b[0m\u001b[0;34m\u001b[0m\u001b[0;34m\u001b[0m\u001b[0m\n\u001b[0;32m--> 575\u001b[0;31m     \u001b[0mparser\u001b[0m \u001b[0;34m=\u001b[0m \u001b[0mTextFileReader\u001b[0m\u001b[0;34m(\u001b[0m\u001b[0mfilepath_or_buffer\u001b[0m\u001b[0;34m,\u001b[0m \u001b[0;34m**\u001b[0m\u001b[0mkwds\u001b[0m\u001b[0;34m)\u001b[0m\u001b[0;34m\u001b[0m\u001b[0;34m\u001b[0m\u001b[0m\n\u001b[0m\u001b[1;32m    576\u001b[0m \u001b[0;34m\u001b[0m\u001b[0m\n\u001b[1;32m    577\u001b[0m     \u001b[0;32mif\u001b[0m \u001b[0mchunksize\u001b[0m \u001b[0;32mor\u001b[0m \u001b[0miterator\u001b[0m\u001b[0;34m:\u001b[0m\u001b[0;34m\u001b[0m\u001b[0;34m\u001b[0m\u001b[0m\n",
      "\u001b[0;32m/opt/tljh/user/lib/python3.8/site-packages/pandas/io/parsers/readers.py\u001b[0m in \u001b[0;36m__init__\u001b[0;34m(self, f, engine, **kwds)\u001b[0m\n\u001b[1;32m    931\u001b[0m \u001b[0;34m\u001b[0m\u001b[0m\n\u001b[1;32m    932\u001b[0m         \u001b[0mself\u001b[0m\u001b[0;34m.\u001b[0m\u001b[0mhandles\u001b[0m\u001b[0;34m:\u001b[0m \u001b[0mIOHandles\u001b[0m \u001b[0;34m|\u001b[0m \u001b[0;32mNone\u001b[0m \u001b[0;34m=\u001b[0m \u001b[0;32mNone\u001b[0m\u001b[0;34m\u001b[0m\u001b[0;34m\u001b[0m\u001b[0m\n\u001b[0;32m--> 933\u001b[0;31m         \u001b[0mself\u001b[0m\u001b[0;34m.\u001b[0m\u001b[0m_engine\u001b[0m \u001b[0;34m=\u001b[0m \u001b[0mself\u001b[0m\u001b[0;34m.\u001b[0m\u001b[0m_make_engine\u001b[0m\u001b[0;34m(\u001b[0m\u001b[0mf\u001b[0m\u001b[0;34m,\u001b[0m \u001b[0mself\u001b[0m\u001b[0;34m.\u001b[0m\u001b[0mengine\u001b[0m\u001b[0;34m)\u001b[0m\u001b[0;34m\u001b[0m\u001b[0;34m\u001b[0m\u001b[0m\n\u001b[0m\u001b[1;32m    934\u001b[0m \u001b[0;34m\u001b[0m\u001b[0m\n\u001b[1;32m    935\u001b[0m     \u001b[0;32mdef\u001b[0m \u001b[0mclose\u001b[0m\u001b[0;34m(\u001b[0m\u001b[0mself\u001b[0m\u001b[0;34m)\u001b[0m\u001b[0;34m:\u001b[0m\u001b[0;34m\u001b[0m\u001b[0;34m\u001b[0m\u001b[0m\n",
      "\u001b[0;32m/opt/tljh/user/lib/python3.8/site-packages/pandas/io/parsers/readers.py\u001b[0m in \u001b[0;36m_make_engine\u001b[0;34m(self, f, engine)\u001b[0m\n\u001b[1;32m   1215\u001b[0m             \u001b[0;31m# \"Union[str, PathLike[str], ReadCsvBuffer[bytes], ReadCsvBuffer[str]]\"\u001b[0m\u001b[0;34m\u001b[0m\u001b[0;34m\u001b[0m\u001b[0;34m\u001b[0m\u001b[0m\n\u001b[1;32m   1216\u001b[0m             \u001b[0;31m# , \"str\", \"bool\", \"Any\", \"Any\", \"Any\", \"Any\", \"Any\"\u001b[0m\u001b[0;34m\u001b[0m\u001b[0;34m\u001b[0m\u001b[0;34m\u001b[0m\u001b[0m\n\u001b[0;32m-> 1217\u001b[0;31m             self.handles = get_handle(  # type: ignore[call-overload]\n\u001b[0m\u001b[1;32m   1218\u001b[0m                 \u001b[0mf\u001b[0m\u001b[0;34m,\u001b[0m\u001b[0;34m\u001b[0m\u001b[0;34m\u001b[0m\u001b[0m\n\u001b[1;32m   1219\u001b[0m                 \u001b[0mmode\u001b[0m\u001b[0;34m,\u001b[0m\u001b[0;34m\u001b[0m\u001b[0;34m\u001b[0m\u001b[0m\n",
      "\u001b[0;32m/opt/tljh/user/lib/python3.8/site-packages/pandas/io/common.py\u001b[0m in \u001b[0;36mget_handle\u001b[0;34m(path_or_buf, mode, encoding, compression, memory_map, is_text, errors, storage_options)\u001b[0m\n\u001b[1;32m    787\u001b[0m         \u001b[0;32mif\u001b[0m \u001b[0mioargs\u001b[0m\u001b[0;34m.\u001b[0m\u001b[0mencoding\u001b[0m \u001b[0;32mand\u001b[0m \u001b[0;34m\"b\"\u001b[0m \u001b[0;32mnot\u001b[0m \u001b[0;32min\u001b[0m \u001b[0mioargs\u001b[0m\u001b[0;34m.\u001b[0m\u001b[0mmode\u001b[0m\u001b[0;34m:\u001b[0m\u001b[0;34m\u001b[0m\u001b[0;34m\u001b[0m\u001b[0m\n\u001b[1;32m    788\u001b[0m             \u001b[0;31m# Encoding\u001b[0m\u001b[0;34m\u001b[0m\u001b[0;34m\u001b[0m\u001b[0;34m\u001b[0m\u001b[0m\n\u001b[0;32m--> 789\u001b[0;31m             handle = open(\n\u001b[0m\u001b[1;32m    790\u001b[0m                 \u001b[0mhandle\u001b[0m\u001b[0;34m,\u001b[0m\u001b[0;34m\u001b[0m\u001b[0;34m\u001b[0m\u001b[0m\n\u001b[1;32m    791\u001b[0m                 \u001b[0mioargs\u001b[0m\u001b[0;34m.\u001b[0m\u001b[0mmode\u001b[0m\u001b[0;34m,\u001b[0m\u001b[0;34m\u001b[0m\u001b[0;34m\u001b[0m\u001b[0m\n",
      "\u001b[0;31mFileNotFoundError\u001b[0m: [Errno 2] No such file or directory: 'iep.csv'"
     ]
    }
   ],
   "source": [
    "\n",
    "\n",
    "import pandas as pd\n",
    "import numpy as np\n",
    "\n",
    "iep = pd.read_csv(\"iep.csv\")\n",
    "\n",
    "iep['gifted_and_iep'] = iep['gifted'] + iep['other_iep']\n",
    "iep['percent_of_gifted_and_iep'] = (iep['gifted_and_iep'] / iep['total_enrollment_k_12']) * 100\n",
    "sorted_iep = iep.sort_values(by='percent_of_gifted_and_iep', ascending=False)\n",
    "\n",
    "print(sorted_iep[['neighborhoods', 'percent_of_gifted_and_iep']])\n",
    "\n",
    "%store sorted_iep\n",
    "\n",
    "\n",
    "\n",
    "\n",
    "\n"
   ]
  },
  {
   "cell_type": "code",
   "execution_count": null,
   "metadata": {},
   "outputs": [],
   "source": []
  },
  {
   "cell_type": "markdown",
   "metadata": {},
   "source": [
    "**IEP Population**\n",
    "\n",
    "This is also highly dependent on the wants of the parents, but dependednt on wheather the children may have a need for an IEP, they would want to be in a scholl with other students that have IEP's so they know that the school is providing a good service already.The top five schools that would fit into this category would be Carrick, Brookline, Squirrel Hill South, Regent Square, Swisshelm"
   ]
  },
  {
   "cell_type": "code",
   "execution_count": 5,
   "metadata": {},
   "outputs": [
    {
     "name": "stdout",
     "output_type": "stream",
     "text": [
      "                                  school  percent_of_feeder_students\n",
      "12                 PITTSBURGH COLFAX K-8                   86.555891\n",
      "18          PITTSBURGH GREENFIELD PreK-8                   85.514019\n",
      "51                        Wilkinsburg SD                   82.000000\n",
      "6            PITTSBURGH BEECHWOOD PreK-5                   77.490775\n",
      "13                PITTSBURGH CONCORD K-5                   76.549865\n",
      "17          PITTSBURGH GREENFIELD PreK-8                   75.590551\n",
      "0      PITTSBURGH ALLDERDICE HIGH SCHOOL                   75.568182\n",
      "11                 PITTSBURGH COLFAX K-8                   74.489796\n",
      "52                        Wilkinsburg SD                   74.111675\n",
      "49               PITTSBURGH WHITTIER K-5                   73.953488\n",
      "9            PITTSBURGH BROOKLINE PreK-8                   73.775216\n",
      "26             PITTSBURGH MIFFLIN PreK-8                   72.519084\n",
      "35               PITTSBURGH PHILLIPS K-5                   71.621622\n",
      "37               PITTSBURGH SCHILLER 6-8                   71.428571\n",
      "5              PITTSBURGH BANKSVILLE K-5                   70.886076\n",
      "7        PITTSBURGH BRASHEAR HIGH SCHOOL                   70.588235\n",
      "27             PITTSBURGH MIFFLIN PreK-8                   67.592593\n",
      "36           PITTSBURGH ROOSEVELT PreK-5                   65.538462\n",
      "8            PITTSBURGH BROOKLINE PreK-8                   64.795918\n",
      "14                 PITTSBURGH FAISON K-5                   62.622036\n",
      "38            PITTSBURGH SOUTH BROOK 6-8                   61.132812\n",
      "40            PITTSBURGH SPRING HILL K-5                   56.852792\n",
      "10        PITTSBURGH CARRICK HIGH SCHOOL                   56.476684\n",
      "28              PITTSBURGH MILLER PreK-5                   56.446991\n",
      "45        PITTSBURGH WEST LIBERTY PreK-5                   55.555556\n",
      "16           PITTSBURGH GRANDVIEW PreK-5                   53.116531\n",
      "22                PITTSBURGH LANGLEY K-8                   53.103448\n",
      "33              PITTSBURGH MORROW PreK-8                   53.000000\n",
      "31             PITTSBURGH MINADEO PreK-5                   51.798561\n",
      "25          PITTSBURGH MANCHESTER PreK-8                   51.111111\n",
      "21                PITTSBURGH LANGLEY K-8                   51.044776\n",
      "48               PITTSBURGH WESTWOOD K-5                   50.149254\n",
      "39            PITTSBURGH SOUTH HILLS 6-8                   49.664430\n",
      "32              PITTSBURGH MORROW PreK-8                   49.371069\n",
      "41               PITTSBURGH STERRETT 6-8                   45.495495\n",
      "23             PITTSBURGH LINCOLN PreK-5                   44.702842\n",
      "2            PITTSBURGH ARLINGTON PreK-8                   44.552529\n",
      "15              PITTSBURGH FULTON PreK-5                   43.911439\n",
      "42           PITTSBURGH SUNNYSIDE PreK-8                   42.857143\n",
      "24          PITTSBURGH MANCHESTER PreK-8                   42.465753\n",
      "44                PITTSBURGH WEIL PreK-5                   42.271293\n",
      "43           PITTSBURGH SUNNYSIDE PreK-8                   41.791045\n",
      "4              PITTSBURGH ARSENAL PreK-5                   41.509434\n",
      "3                 PITTSBURGH ARSENAL 6-8                   41.463415\n",
      "47  PITTSBURGH WESTINGHOUSE ACADEMY 6-12                   41.432584\n",
      "50           PITTSBURGH WOOLSLAIR PreK-5                   39.712919\n",
      "1            PITTSBURGH ARLINGTON PreK-8                   37.500000\n",
      "34          PITTSBURGH PERRY HIGH SCHOOL                   37.390351\n",
      "20                PITTSBURGH KING PreK-8                   37.037037\n",
      "19                PITTSBURGH KING PreK-8                   33.442623\n",
      "29             PITTSBURGH MILLIONES 6-12                   32.950192\n",
      "30             PITTSBURGH MILLIONES 6-12                   27.541371\n",
      "46  PITTSBURGH WESTINGHOUSE ACADEMY 6-12                   27.228525\n"
     ]
    }
   ],
   "source": [
    "import pandas as pd\n",
    "import numpy as np\n",
    "\n",
    "\n",
    "feeder = pd.read_csv(\"feeder_enrollment.csv\")\n",
    "\n",
    "feeder['percent_of_feeder_students'] = (feeder['attending_feeder'] / feeder['total_with_feeder_status']) * 100\n",
    "sorted_feeder = feeder.sort_values(by='percent_of_feeder_students', ascending=False)\n",
    "\n",
    "\n",
    "\n",
    "print(sorted_feeder[['school', 'percent_of_feeder_students']])\n",
    "\n",
    "\n",
    "\n",
    "\n",
    "\n",
    "\n",
    "\n"
   ]
  },
  {
   "cell_type": "markdown",
   "metadata": {},
   "source": [
    "**Top 5 schools with the highest feeder population**\n",
    "Above are the highschools witht the most feeder students and schools with more feeder students are usually considered better. One reason being that many kids aren't moving away from this school. Now while there are plenty of other reasons why their may be a large feeder population, in this example we are only looking at what the numbers tell us and not taking into account any outside reasoning.\n",
    "1.)Squirrel Hill\n",
    "2.)Greenfield\n",
    "3.)Wilkensburg\n",
    "4.)Beechwood\n",
    "5.)Concord"
   ]
  },
  {
   "cell_type": "code",
   "execution_count": null,
   "metadata": {},
   "outputs": [],
   "source": []
  },
  {
   "cell_type": "code",
   "execution_count": null,
   "metadata": {},
   "outputs": [],
   "source": []
  }
 ],
 "metadata": {
  "kernelspec": {
   "display_name": "Python 3",
   "language": "python",
   "name": "python3"
  },
  "language_info": {
   "codemirror_mode": {
    "name": "ipython",
    "version": 3
   },
   "file_extension": ".py",
   "mimetype": "text/x-python",
   "name": "python",
   "nbconvert_exporter": "python",
   "pygments_lexer": "ipython3",
   "version": "3.8.3"
  }
 },
 "nbformat": 4,
 "nbformat_minor": 4
}
