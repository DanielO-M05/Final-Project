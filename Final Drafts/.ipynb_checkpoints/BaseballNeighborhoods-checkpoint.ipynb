{
 "cells": [
  {
   "cell_type": "markdown",
   "metadata": {},
   "source": [
    "# Baseball in the Neighborhood"
   ]
  },
  {
   "cell_type": "markdown",
   "metadata": {},
   "source": [
    "It it entirely self evident that the best neighborhood in Pittsburgh is that which most easily facilitates the age-old sport of baseball. As such, we will analyze the neighborhoods of Pittsburgh using the field listings database for the city."
   ]
  },
  {
   "cell_type": "markdown",
   "metadata": {},
   "source": [
    "### How the rating is measured\n",
    "\n",
    "In order for this metric to most easily combined with other metrics, the metric will range from 0-100. To achieve this, once the raw scores are found, the scores will be changed proportionally so that the lowest score is 0 and the highest score is 100. Neighborhoods without baseball fields are given a 0. The most important factor in this metric is that everyone in the neighborhood can attend a baseball game on any given day. Concretely, the rating of a neighborhood is directly dependent on the percentage of people able to be acommodated by the baseball fields in one day. We will also weigh the capacity of the neighborhood to attend baseball games much greater than other factors. \n",
    "\n",
    "Assuming a game takes 3 hours, there can be 4 games from 10-10 in one day. During regular season baseball from March to November, sunset time ranges from 6:15 to 7:45. We will assume that the average sunset time lies at 7pm, leaving an average of around 2.5 hrs of darkness (assuming twilight is playable) where baseball can't be played in unlit fields. Out of the 12 hours of potential playing time, lit fields can accomodate one more game than the rest, which will be accounted in the daily accomodation.\n",
    "Thus, the formula is of the form:\n",
    "```\n",
    "rating = 100 * (.8 * percent_accomodated_daily) * (.2 * satisfaction)\n",
    "```\n",
    "\n",
    "According to [NPR](https://www.npr.org/2021/11/09/1053828800/south-korea-seoul-halloween-crowd-safety-tips), maximum safe density is around 5 people/meter^2. For this metric, we'll assume that if you are more than 2 meters behind the front of the crowd, watching the baseball game becomes too difficult to be worthwhile. Let's also assume that people will only line up as far as right and left field extend to, and won't crowd home run territory. Thus, the maximum capacity of the baseball field is calculated as:\n",
    "```\n",
    "(right+left)*2*5\n",
    "```\n",
    "Were the right and left field are mesured in meters, 2 is the visibilty constant and 5 is the mosh-pit density.\n",
    "\n",
    "Now this begs the question \"how is satisfaction measured?\" While capacity is the most important issue, the availability of concession stands is also greatly important. We will assume that the average concession stand takes in two orders at a time, at a speed of 45 seconds per order, for an efficiency of 2.7 orders/min. Ideally, the concession stand effiency will at least match the demand for concession. We will assume that in the 5 minnutes between innings, around 5% of attendees will want a tasty snack. In this way, concession stand optimization will be calculated as:\n",
    "```\n",
    "min(2.7*5*stands/capacity*.05, 1)\n",
    "```\n",
    "\n",
    "Where 2 is the concessions constant and 5 is the amount of minutes between innings. \n",
    "\n",
    "All in all, the metric can be derived like so:\n",
    "```\n",
    "capacity_per_game = (right+left)*2*5\n",
    "capacity_per_day = capacity_per_game * (3 + hasLights) # hasLights is 0 or 1\n",
    "neighborhood_daily_capacity = summation(capacity_per_day)\n",
    "percent_accomodated_daily = neighborhood_daily_capacity / neighborhood_population\n",
    "\n",
    "satisfaction = summation(2.7*5*stands/(capacity*.05), 1)\n",
    "\n",
    "rating = 100 * (.8 * percent_accomodated daily) + (.2 * satisfaction)\n",
    "```"
   ]
  },
  {
   "cell_type": "markdown",
   "metadata": {},
   "source": [
    "### Basic Information"
   ]
  },
  {
   "cell_type": "code",
   "execution_count": 1,
   "metadata": {},
   "outputs": [],
   "source": [
    "import pandas as pd\n",
    "import numpy as np\n",
    "fields = pd.read_csv(\"fields-Copy1.csv\")\n",
    "# From here: https://data.wprdc.org/dataset/2020-census-redistricting-data-extracts/resource/a8414ed5-c50f-417e-bb67-82b734660da6\n",
    "hoods = pd.read_csv(\"neighborhoods.csv\")\n",
    "%matplotlib inline\n",
    "import matplotlib.pyplot as plt"
   ]
  },
  {
   "cell_type": "code",
   "execution_count": 2,
   "metadata": {},
   "outputs": [
    {
     "name": "stdout",
     "output_type": "stream",
     "text": [
      "The neighborhoods with the most fields, at a grand total of 7 are ['Brighton Heights', 'Squirrel Hill South'].\n",
      "Out of the 90 neighborhoods in Pittsburgh, 54 have one field or more.\n",
      "That's only 60.0%!\n"
     ]
    }
   ],
   "source": [
    "fieldNums = {}\n",
    "lotsOfFields = []\n",
    "\n",
    "mostFields = 0\n",
    "\n",
    "for index, row in fields.iterrows():\n",
    "    if row['Neighborhood'] in fieldNums:\n",
    "        fieldNums[row['Neighborhood']] += 1\n",
    "        if fieldNums[row['Neighborhood']] > mostFields:\n",
    "            mostFields = fieldNums[row['Neighborhood']]\n",
    "            lotsOfFields.clear()\n",
    "            lotsOfFields.append(row['Neighborhood'])\n",
    "        elif fieldNums[row['Neighborhood']] == mostFields:\n",
    "            lotsOfFields.append(row['Neighborhood'])\n",
    "    else:\n",
    "        fieldNums[row['Neighborhood']] = 1\n",
    "       \n",
    "print(\"The neighborhoods with the most fields, at a grand total of \" + str(mostFields) + \" are \" + str(lotsOfFields) + \".\")\n",
    "print(\"Out of the 90 neighborhoods in Pittsburgh, \" + str(len(fieldNums)) + \" have one field or more.\") # Num of neighborhoods\n",
    "print(\"That's only \" + str(round(len(fieldNums)/90*100, 0)) + \"%!\")"
   ]
  },
  {
   "cell_type": "markdown",
   "metadata": {},
   "source": [
    "### Looks like only 60% of neighborhoods are conducive to America's favorite pastime :("
   ]
  },
  {
   "cell_type": "markdown",
   "metadata": {},
   "source": [
    "For those neighborhoods that do have baseball fields, let's examine their distribution."
   ]
  },
  {
   "cell_type": "code",
   "execution_count": 3,
   "metadata": {},
   "outputs": [
    {
     "data": {
      "image/png": "[encoded data removed]",
      "text/plain": [
       "<Figure size 432x288 with 1 Axes>"
      ]
     },
     "metadata": {
      "needs_background": "light"
     },
     "output_type": "display_data"
    }
   ],
   "source": [
    "# First two lines from here\n",
    "# https://stackoverflow.com/questions/37266341/plotting-a-python-dict-in-order-of-key-values\n",
    "\n",
    "lists = sorted(fieldNums.items())\n",
    "x, y = zip(*lists)\n",
    "\n",
    "# Alignment code from here: https://stackoverflow.com/questions/27083051/matplotlib-xticks-not-lining-up-with-histogram\n",
    "plt.hist(y, bins=np.arange(8)+0.5, rwidth = .9)\n",
    "plt.yticks(np.arange(0, 22, 3))\n",
    "plt.grid(axis = 'y')\n",
    "plt.show()"
   ]
  },
  {
   "cell_type": "code",
   "execution_count": 4,
   "metadata": {},
   "outputs": [
    {
     "name": "stdout",
     "output_type": "stream",
     "text": [
      "The mean and median of the number of fields in fielded neighborhoods are 2.26 and 2 respectively.\n",
      "The mean and median of the number of fields in ALL neighborhoods are 1.36 and 1 respectively.\n"
     ]
    }
   ],
   "source": [
    "import statistics\n",
    "\n",
    "numFieldsList = sorted(fieldNums.values())\n",
    "\n",
    "median = statistics.median(numFieldsList)\n",
    "mean = statistics.mean(numFieldsList)\n",
    "\n",
    "print(\"The mean and median of the number of fields in fielded neighborhoods are \" + str(round(mean,2)) + \" and \" + str(int(median)) + \" respectively.\")\n",
    "\n",
    "# Adding empty neighborhoods\n",
    "for i in range(90-54):\n",
    "    numFieldsList.append(0)\n",
    "    \n",
    "median = statistics.median(numFieldsList)\n",
    "mean = statistics.mean(numFieldsList)\n",
    "    \n",
    "print(\"The mean and median of the number of fields in ALL neighborhoods are \" + str(round(mean,2)) + \" and \" + str(int(median)) + \" respectively.\")"
   ]
  },
  {
   "cell_type": "markdown",
   "metadata": {},
   "source": [
    "Now, let's go ahead and find every neighborhoods capacity."
   ]
  },
  {
   "cell_type": "code",
   "execution_count": 5,
   "metadata": {},
   "outputs": [
    {
     "name": "stdout",
     "output_type": "stream",
     "text": [
      "{'Bedford Dwellings': 45000, 'Southside Slopes': 78970, 'Southside Flates': 10530, 'Lower Lawrenceville': 47220, 'Bankville': 32800, 'Allentown': 7440, 'Squirrel Hill South': 88550, 'Brighton Heights': 102090, 'Broadhead Manor': 7440, 'Brookline': 81980, 'Hazelwood': 64840, 'Overbrook': 7440, 'Lincoln-Lemington-Belmar': 28760, 'Windgap': 53200, 'Troy Hill': 52840, 'South Oakland': 9920, 'Bloomfield': 22080, 'Arlington': 16350, 'Mount Washington': 83040, 'Stanton Heights': 30090, 'Crafton Heights': 38920, 'East Hills': 22920, 'East Liberty': 7440, 'Hihgland Park': 12030, 'Upper Lawrenceville': 10770, 'Fineview': 20040, 'Garfield': 41920, 'Greenfield': 54900, 'Perry South': 40390, 'Elliott': 41680, 'Morningside': 95130, 'Marshall-Shadeland': 34250, 'Beechview': 36800, 'Central Lawrenceville': 51920, 'Terrace Village': 40220, 'Larimer': 9600, 'Beltzhoover': 47810, 'Allegheny Center': 29280, 'Manchester': 34040, 'Lincoln Place': 14340, 'Sheraden': 47910, 'Shadyside': 49350, 'Spring Garden': 9930, 'Oakwood': 7440, 'Southside Flats': 9000, 'New Homestead': 12000, 'Mt. Oliver Neigborhood': 24000, 'Carrick': 52400, 'Spring Hill-City View': 33730, 'West End': 14160, 'Polish Hill': 47720, 'Westwood': 38800, 'Squirrel Hill North': 7440, 'Homewood South': 41120}\n",
      "\n",
      "\n",
      "\n",
      "\n",
      "{'Ammon Field #1': 6190, 'Ammon Field #2': 5060, 'Arlington Field #1': 5000, 'Armstrong Field': 3510, 'Arsenal Band Box': 3630, 'Arsenal Middle': 4710, 'Banksville Field': 6000, 'Banksville School Field': 3700, 'Bigbee Field': 2480, 'Bill Stolz Field #2': 3600, 'Braddock Field #1': 5860, 'Braddock Field #2': 6750, 'Brighton Hights Field # 4': 5680, 'Brighton Hights Field # 5': 5810, 'Brighton Hights Field #1': 5280, 'Brighton Hights Field #2': 5120, 'Broadhead manor': 2480, 'Brookline T-ball': 2480, 'Bud Hammer Field': 3570, 'Burgwin Field': 6250, 'Camelius Sangnini Field # 6': 3940, 'Carmalt School Field': 2480, 'Chadwick Field': 2480, 'Chartiers Field #1': 6650, 'Chartiers Field #2': 6650, 'Cowley Field #1': 4260, 'Cowley Field #2': 3870, 'Dan Marino Field': 2480, 'Dan McGibbeny Field': 3970, 'Dean Field': 5520, 'Devlin Field': 5450, 'Dilworth Field #1': 3820, 'Dilworth Field #2': 3410, 'Dinan Field': 6000, 'Dunbar Field #1': 4770, 'Dunbar Field #2': 2480, 'Dunbar Field #3': 2480, 'East Hills Park Field': 5730, 'East Liberty Park': 2480, 'Farmhouse Field': 4010, 'Fern Hollow': 2480, 'Fifty-Seventh St. Field': 3590, 'Fineview Field': 5010, 'Fort Pitt Field #1': 5990, 'Fort Pitt Field #2': 4490, 'Four Mile Run Field': 2900, 'Fowler Field # 1': 6430, 'Fowler Field # 2': 4890, 'Gardner Field': 5080, 'Gladstone Field': 4190, 'Herschel Field #1 (Lower)': 6820, 'Herschel Field #2': 3600, \"Heth's Field #1\": 5710, \"Heth's Field #2\": 5440, \"Heth's Field #3\": 2480, 'Horace Mann Field': 5300, 'Jim Rawe Field': 2480, 'Joe Natoli Field #1': 6270, 'Joe Natoli Field #2': 4810, 'Joe Natoli Field #3': 2480, 'John McGrane Field #1': 6180, 'John McGrane Field #2': 6800, 'John Merry Field #3': 5720, 'Kennard Field #1': 7400, 'Larimer Field': 3200, 'Loretta Miller Field': 3350, 'M.L.King School': 3800, 'Magee Field #1': 5710, 'Magee Field #2': 5840, 'Manchester Field': 6650, 'Marmaduke Field': 2480, 'Mazeroski Field': 3640, 'McBride Park Field': 4780, 'McGonigle Field': 4500, 'McKinley Field #1': 5400, 'McKnight Field': 2480, 'Mellon Field L.L.': 3230, 'Mellon Field Main': 7230, 'Mellon Field Middle': 3580, 'Michael Flynn Field': 3310, 'Monongahela Field': 3620, 'Moore Field #1': 6170, 'Moore Field #2': 4050, 'Oakwood': 2480, 'Olympia Field #1': 6390, 'Olympia Field #2': 7140, 'Ormsby Field': 3000, 'Oval Field': 2480, 'Panorama Field': 4000, 'Panther Hollow': 2480, 'Paulson Field': 5330, 'Phillip Murray Field': 6000, 'Phillips Park Field': 3950, 'Quarry Field': 2480, 'Ray Miller Field': 5520, 'Richie McCabe Field': 5960, 'Rye-Molt Field': 4350, 'Sam Bryen Field #1': 3970, 'Sam Bryen Field #2': 2480, 'Scherer Field': 3710, 'Sheraden Field #1': 4260, 'Sheraden Field #2': 5790, 'Southside Park Field': 3000, 'Spring Hill Field': 5650, 'Stan Lederman Field': 3750, 'Sullivan Field': 5550, 'Sunnyside Field': 4030, 'Vanucci Field #1': 5000, 'Vanucci Field #2': 3590, 'Volunteers Field #1': 5560, 'Volunteers Field #2': 3590, 'Wabash Field': 4720, 'Warren K Branch Field': 3540, 'Warrington Field': 4040, 'West Penn Field #1': 6230, 'West Penn Field #2': 5700, 'Westwood Field #1': 4850, 'Westwood Field #2': 4850, 'Wightman Field': 2480, 'Willie Stargell #1': 5750, 'Willie Stargell #2': 4530, 'Winters Field': 3930}\n"
     ]
    }
   ],
   "source": [
    "# Make a dict where the key is the name of the neighborhood and the value is the total capacity per day\n",
    "# I.e. Loop through fields, add the capacity per day to the neighborhood dict\n",
    "\n",
    "import re\n",
    "\n",
    "dayCap = {}\n",
    "\n",
    "# This dict will have every field (not neighborhood) and have its capacity per day\n",
    "fieldCap = {}\n",
    "\n",
    "for index, row in fields.iterrows():\n",
    "    # Determines daily capacity\n",
    "    if (not(pd.isna(row['Left']) or pd.isna(row['Right']))):\n",
    "        \n",
    "        # This from here: https://bobbyhadz.com/blog/python-remove-all-non-numeric-characters-from-string\n",
    "        left = re.sub(\"[^0-9|.]\", \"\", str(row['Left']))\n",
    "        right = re.sub(\"[^0-9|.]\", \"\", str(row['Right']))\n",
    "        \n",
    "    else:\n",
    "        # Default values are set to minimums of left and right lengths, calculated in 'DanielDraft'\n",
    "        left = 148\n",
    "        right = 100\n",
    "        \n",
    "    # Determines presence of lights\n",
    "    lights = 1 if row['Lights'] == 1 else 0\n",
    "\n",
    "    # Calculates daily capacity\n",
    "    capacityPerGame = (int(left) + int(right)) * 10\n",
    "    capacityPerDay = capacityPerGame * (3 + lights)\n",
    "        \n",
    "    # Adds to dayCap\n",
    "    if row['Neighborhood'] in dayCap:\n",
    "        dayCap[row['Neighborhood']] += capacityPerDay\n",
    "    else:\n",
    "        dayCap[row['Neighborhood']] = capacityPerDay\n",
    "        \n",
    "    # Adds to fieldCap\n",
    "    if row['Field Name'] in fieldCap:\n",
    "        fieldCap[row['Field Name']] += capacityPerGame\n",
    "    else:\n",
    "        fieldCap[row['Field Name']] = capacityPerGame\n",
    "\n",
    "print(dayCap)\n",
    "print('\\n\\n\\n')\n",
    "print(fieldCap)"
   ]
  },
  {
   "cell_type": "code",
   "execution_count": 6,
   "metadata": {},
   "outputs": [
    {
     "name": "stdout",
     "output_type": "stream",
     "text": [
      "{'Bedford Dwellings': 32.468, 'Southside Slopes': 100.471, 'Lower Lawrenceville': 17.88, 'Bankville': 23.665, 'Allentown': 3.228, 'Squirrel Hill South': 5.781, 'Brighton Heights': 14.369, 'Broadhead Manor': 6.526, 'Brookline': 6.276, 'Hazelwood': 16.673, 'Overbrook': 2.136, 'Lincoln-Lemington-Belmar': 7.91, 'Windgap': 39.583, 'Troy Hill': 19.977, 'South Oakland': 2.98, 'Bloomfield': 2.548, 'Arlington': 3.962, 'Mount Washington': 9.534, 'Stanton Heights': 6.797, 'Crafton Heights': 9.732, 'East Hills': 7.925, 'East Liberty': 1.203, 'Hihgland Park': 4.597, 'Upper Lawrenceville': 4.499, 'Fineview': 17.579, 'Garfield': 11.507, 'Greenfield': 7.561, 'Perry South': 10.728, 'Elliott': 19.006, 'Morningside': 29.253, 'Marshall-Shadeland': 8.465, 'Beechview': 4.845, 'Central Lawrenceville': 11.0, 'Terrace Village': 17.336, 'Larimer': 6.214, 'Beltzhoover': 29.807, 'Allegheny Center': 20.634, 'Manchester': 16.76, 'Lincoln Place': 4.545, 'Sheraden': 9.308, 'Shadyside': 3.222, 'Spring Garden': 12.634, 'Oakwood': 7.259, 'Southside Flats': 4.514, 'New Homestead': 13.086, 'Mt. Oliver Neigborhood': 26.172, 'Carrick': 5.092, 'Spring Hill-City View': 2.839, 'West End': 69.073, 'Polish Hill': 39.734, 'Westwood': 11.645, 'Squirrel Hill North': 0.626, 'Homewood South': 18.195}\n"
     ]
    }
   ],
   "source": [
    "POP = 300431\n",
    "\n",
    "for index, row in hoods.iterrows():\n",
    "    if row['Neighborhood'] in dayCap:\n",
    "        dayCap[row['Neighborhood']] = round(dayCap[row['Neighborhood']]/row['2020_Total_Population'],3)\n",
    "        \n",
    "# Manual data fixing:\n",
    "dayCap['Southside Slopes'] = round(dayCap['Southside Slopes']/hoods.loc[72,'2020_Total_Population'],3)\n",
    "dayCap['Broadhead Manor'] = round(dayCap['Broadhead Manor']/hoods.loc[31,'2020_Total_Population'],3)\n",
    "dayCap['Bankville'] = round(dayCap['Bankville']/hoods.loc[5,'2020_Total_Population'],3)\n",
    "dayCap['Arlington'] = round(dayCap['Arlington']/hoods.loc[4,'2020_Total_Population'],3)\n",
    "dayCap['Hihgland Park'] = round(dayCap['Hihgland Park']/hoods.loc[39,'2020_Total_Population'],3)\n",
    "dayCap['Mt. Oliver Neigborhood'] = round(dayCap['Mt. Oliver Neigborhood']/hoods.loc[53,'2020_Total_Population'],3)\n",
    "dayCap['Spring Hill-City View'] = round(dayCap['Spring Hill-City View']/hoods.loc[74,'2020_Total_Population'],3)\n",
    "dayCap['Southside Flats'] = round((dayCap['Southside Flats']+dayCap['Southside Flates'])/hoods.loc[71,'2020_Total_Population'],3)\n",
    "del dayCap['Southside Flates']\n",
    "\n",
    "print(dayCap)"
   ]
  },
  {
   "cell_type": "markdown",
   "metadata": {},
   "source": [
    "Great, now all that's left is to find the satisfaction index."
   ]
  },
  {
   "cell_type": "code",
   "execution_count": 7,
   "metadata": {},
   "outputs": [
    {
     "name": "stdout",
     "output_type": "stream",
     "text": [
      "{'Bedford Dwellings': 0.0, 'Southside Slopes': 0.06629032258064516, 'Southside Flates': 0.0, 'Lower Lawrenceville': 0.016216216216216217, 'Bankville': 0.03648648648648649, 'Allentown': 0.0, 'Squirrel Hill South': 0.07627030087604789, 'Brighton Heights': 0.04480118093956579, 'Broadhead Manor': 0.0, 'Brookline': 0.1363251615935091, 'Hazelwood': 0.031135823894775302, 'Overbrook': 0.0, 'Lincoln-Lemington-Belmar': 0.05443548387096774, 'Windgap': 0.0406015037593985, 'Troy Hill': 0.044382574516868646, 'South Oakland': 0.0, 'Bloomfield': 0.04891304347826087, 'Arlington': 0.0, 'Mount Washington': 0.03746487847568746, 'Stanton Heights': 0.055998759305210914, 'Crafton Heights': 0.09144856968959221, 'East Hills': 0.0, 'East Liberty': 0.0, 'Hihgland Park': 0.0, 'Upper Lawrenceville': 0.0, 'Fineview': 0.0, 'Garfield': 0.052604377749106715, 'Greenfield': 0.031172780270134107, 'Perry South': 0.0, 'Elliott': 0.057294721407624635, 'Morningside': 0.06897583493551916, 'Marshall-Shadeland': 0.03103448275862069, 'Beechview': 0.043069637883008355, 'Central Lawrenceville': 0.04169760137064535, 'Terrace Village': 0.05637883646358223, 'Larimer': 0.0, 'Beltzhoover': 0.026865671641791045, 'Allegheny Center': 0.0, 'Manchester': 0.0, 'Lincoln Place': 0.0, 'Sheraden': 0.05667080201415748, 'Shadyside': 0.0, 'Spring Garden': 0.0, 'Oakwood': 0.10887096774193548, 'Southside Flats': 0.0, 'New Homestead': 0.0, 'Mt. Oliver Neigborhood': 0.0, 'Carrick': 0.041256688242720586, 'Spring Hill-City View': 0.023893805309734513, 'West End': 0.0, 'Polish Hill': 0.0, 'Westwood': 0.05567010309278351, 'Squirrel Hill North': 0.0, 'Homewood South': 0.0}\n"
     ]
    }
   ],
   "source": [
    "# Lets first make a dictionary that maps the neighborhoods to the concession stands\n",
    "\n",
    "satisfaction = {}\n",
    "\n",
    "for index, row in fields.iterrows():\n",
    "    stand = 0\n",
    "    if (not(pd.isna(row['Concession Stand']))):\n",
    "        stand = row['Concession Stand']\n",
    "        \n",
    "    else:\n",
    "        stand = 0\n",
    "        \n",
    "    if row['Neighborhood'] in satisfaction:\n",
    "        # This has to be average not simple sum\n",
    "        satisfaction[row['Neighborhood']] += (13.5*stand)/(fieldCap[row['Field Name']]*.05)\n",
    "    else:\n",
    "        satisfaction[row['Neighborhood']] = (13.5*stand)/(fieldCap[row['Field Name']]*.05)\n",
    "      \n",
    "# Making it average\n",
    "for key in satisfaction:\n",
    "    satisfaction[key] /= fieldNums[key]\n",
    "    \n",
    "print(satisfaction)\n",
    "        \n",
    "    "
   ]
  },
  {
   "cell_type": "markdown",
   "metadata": {},
   "source": [
    "So, for every neighborhood, we have satisfaction and its daily capacity."
   ]
  },
  {
   "cell_type": "code",
   "execution_count": 8,
   "metadata": {},
   "outputs": [
    {
     "name": "stdout",
     "output_type": "stream",
     "text": [
      "{'Bedford Dwellings': 2597.4400000000005, 'Southside Slopes': 8039.005806451612, 'Lower Lawrenceville': 1430.7243243243245, 'Bankville': 1893.9297297297294, 'Allentown': 258.24, 'Squirrel Hill South': 464.0054060175209, 'Brighton Heights': 1150.4160236187913, 'Broadhead Manor': 522.08, 'Brookline': 504.80650323187024, 'Hazelwood': 1334.4627164778956, 'Overbrook': 170.88, 'Lincoln-Lemington-Belmar': 633.8887096774193, 'Windgap': 3167.452030075188, 'Troy Hill': 1599.0476514903373, 'South Oakland': 238.39999999999998, 'Bloomfield': 204.81826086956522, 'Arlington': 316.96000000000004, 'Mount Washington': 763.4692975695139, 'Stanton Heights': 544.8799751861042, 'Crafton Heights': 780.3889713937918, 'East Hills': 634.0, 'East Liberty': 96.24000000000001, 'Hihgland Park': 367.76000000000005, 'Upper Lawrenceville': 359.91999999999996, 'Fineview': 1406.3200000000002, 'Garfield': 921.6120875549822, 'Greenfield': 605.5034556054027, 'Perry South': 858.24, 'Elliott': 1521.6258944281526, 'Morningside': 2341.6195166987104, 'Marshall-Shadeland': 677.8206896551725, 'Beechview': 388.4613927576602, 'Central Lawrenceville': 880.8339520274129, 'Terrace Village': 1388.0075767292717, 'Larimer': 497.12000000000006, 'Beltzhoover': 2385.097313432836, 'Allegheny Center': 1650.72, 'Manchester': 1340.8000000000002, 'Lincoln Place': 363.6, 'Sheraden': 745.7734160402832, 'Shadyside': 257.76000000000005, 'Spring Garden': 1010.72, 'Oakwood': 582.8974193548388, 'Southside Flats': 361.12, 'New Homestead': 1046.88, 'Mt. Oliver Neigborhood': 2093.76, 'Carrick': 408.1851337648544, 'Spring Hill-City View': 227.59787610619466, 'West End': 5525.839999999999, 'Polish Hill': 3178.7200000000003, 'Westwood': 932.7134020618556, 'Squirrel Hill North': 50.080000000000005, 'Homewood South': 1455.6000000000001}\n",
      "\n",
      "\n",
      "The best neighborhood for baseball is Southside Slopes!\n"
     ]
    }
   ],
   "source": [
    "ratings = {}\n",
    "keys = []\n",
    "bestRate = 0\n",
    "\n",
    "for key in dayCap:\n",
    "    if key in satisfaction:\n",
    "        ratings[key] = 100 * ((.8*dayCap[key]) + (.2*satisfaction[key]))\n",
    "        \n",
    "    if ratings[key] > bestRate:\n",
    "        bestHood = key\n",
    "        bestRate = ratings[key]\n",
    "        \n",
    "print(ratings)\n",
    "print(\"\\n\\nThe best neighborhood for baseball is \" + str(bestHood) + \"!\")\n"
   ]
  },
  {
   "cell_type": "code",
   "execution_count": 46,
   "metadata": {},
   "outputs": [
    {
     "name": "stdout",
     "output_type": "stream",
     "text": [
      "And now the moment you've all been waiting for: \n",
      "\n",
      "Southside Slopes: 100.0%\n",
      "West End: 68.74%\n",
      "Polish Hill: 39.54%\n",
      "Windgap: 39.4%\n",
      "Bedford Dwellings: 32.31%\n",
      "Beltzhoover: 29.67%\n",
      "Morningside: 29.13%\n",
      "Mt. Oliver Neigborhood: 26.05%\n",
      "Bankville: 23.56%\n",
      "Allegheny Center: 20.53%\n",
      "Troy Hill: 19.89%\n",
      "Elliott: 18.93%\n",
      "Homewood South: 18.11%\n",
      "Lower Lawrenceville: 17.8%\n",
      "Fineview: 17.49%\n",
      "Terrace Village: 17.27%\n",
      "Manchester: 16.68%\n",
      "Hazelwood: 16.6%\n",
      "Brighton Heights: 14.31%\n",
      "New Homestead: 13.02%\n",
      "Spring Garden: 12.57%\n",
      "Westwood: 11.6%\n",
      "Garfield: 11.46%\n",
      "Central Lawrenceville: 10.96%\n",
      "Perry South: 10.68%\n",
      "Crafton Heights: 9.71%\n",
      "Mount Washington: 9.5%\n",
      "Sheraden: 9.28%\n",
      "Marshall-Shadeland: 8.43%\n",
      "East Hills: 7.89%\n",
      "Lincoln-Lemington-Belmar: 7.89%\n",
      "Greenfield: 7.53%\n",
      "Oakwood: 7.25%\n",
      "Stanton Heights: 6.78%\n",
      "Broadhead Manor: 6.49%\n",
      "Brookline: 6.28%\n",
      "Larimer: 6.18%\n",
      "Squirrel Hill South: 5.77%\n",
      "Carrick: 5.08%\n",
      "Beechview: 4.83%\n",
      "Hihgland Park: 4.57%\n",
      "Lincoln Place: 4.52%\n",
      "Southside Flats: 4.49%\n",
      "Upper Lawrenceville: 4.48%\n",
      "Arlington: 3.94%\n",
      "Allentown: 3.21%\n",
      "Shadyside: 3.21%\n",
      "South Oakland: 2.97%\n",
      "Spring Hill-City View: 2.83%\n",
      "Bloomfield: 2.55%\n",
      "Overbrook: 2.13%\n",
      "East Liberty: 1.2%\n",
      "Squirrel Hill North: 0.62%\n"
     ]
    }
   ],
   "source": [
    "scores = [(k, v) for k, v in ratings.items()]\n",
    "# Sorting tuple list from here https://www.geeksforgeeks.org/python-program-to-sort-a-list-of-tuples-by-second-item/\n",
    "scores.sort(key = lambda x: x[1], reverse = True)\n",
    "\n",
    "print(\"And now the moment you've all been waiting for: \\n\")\n",
    "\n",
    "for hood in scores: \n",
    "    print(hood[0] + \": \" + str(round(100*hood[1]/bestRate, 2)) + \"%\")\n",
    "\n"
   ]
  },
  {
   "cell_type": "code",
   "execution_count": 82,
   "metadata": {},
   "outputs": [
    {
     "data": {
      "image/png": "[encoded data removed]",
      "text/plain": [
       "<Figure size 936x936 with 1 Axes>"
      ]
     },
     "metadata": {
      "needs_background": "light"
     },
     "output_type": "display_data"
    }
   ],
   "source": [
    "xs = [x for x, y in scores]\n",
    "ys = [100*int(y)/bestRate for x, y in scores]\n",
    "\n",
    "plt.bar(xs, ys)\n",
    "plt.rcParams[\"figure.figsize\"] = (13,13)\n",
    "plt.show()"
   ]
  },
  {
   "cell_type": "markdown",
   "metadata": {},
   "source": [
    "# **Yippee!**"
   ]
  },
  {
   "cell_type": "markdown",
   "metadata": {},
   "source": [
    "## Conclusion"
   ]
  },
  {
   "cell_type": "markdown",
   "metadata": {},
   "source": [
    "According to this submetric, Southside Slopes is the \"best\" neighborhood in Pittsburgh. This metric favors large neighborhoods with low population density, so it makes sense. Personally, I like neighborhoods like Squirrel Hill and Greenfield, which are rated no higher than 8%. This is likely because I prefer neighborhoods with parks and trails, which are not conducive to baseball fields. That being said, I think neighborhoods like Southside Slopes and Polish Hill are still great neighborhoods that are also well-reflected using this metric."
   ]
  }
 ],
 "metadata": {
  "kernelspec": {
   "display_name": "Python 3",
   "language": "python",
   "name": "python3"
  },
  "language_info": {
   "codemirror_mode": {
    "name": "ipython",
    "version": 3
   },
   "file_extension": ".py",
   "mimetype": "text/x-python",
   "name": "python",
   "nbconvert_exporter": "python",
   "pygments_lexer": "ipython3",
   "version": "3.8.3"
  }
 },
 "nbformat": 4,
 "nbformat_minor": 4
}
