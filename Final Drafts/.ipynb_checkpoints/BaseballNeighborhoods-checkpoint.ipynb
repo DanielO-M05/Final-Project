{
 "cells": [
  {
   "cell_type": "markdown",
   "metadata": {},
   "source": [
    "# Baseball in the Neighborhood"
   ]
  },
  {
   "cell_type": "markdown",
   "metadata": {},
   "source": [
    "It it entirely self evident that the best neighborhood in Pittsburgh is that which most easily facilitates the age-old sport of baseball. As such, we will analyze the neighborhoods of Pittsburgh using the field listings database for the city."
   ]
  },
  {
   "cell_type": "markdown",
   "metadata": {},
   "source": [
    "### How the rating is measured\n",
    "\n",
    "In order for this metric to most easily combined with other metrics, the metric will range from 0-100. Neighborhoods without baseball fields are given a 0. The most important factor in this metric is that everyone in the neighborhood can attend a baseball game on any given day. Concretely, the rating of a neighborhood is directly dependent on the percentage of people able to be acommodated by the baseball fields in one day. We will also weigh the capacity of the neighborhood to attend baseball games much greater than other factors. \n",
    "\n",
    "Assuming a game takes 3 hours, there can be 4 games from 10-10 in one day. During regular season baseball from March to November, sunset time ranges from 6:15 to 7:45. We will assume that the average sunset time lies at 7pm, leaving an average of around 2.5 hrs of darkness (assuming twilight is playable) where baseball can't be played in unlit fields. Out of the 12 hours of potential playing time, lit fields can accomodate one more game than the rest, which will be accounted in the daily accomodation.\n",
    "Thus, the formula is of the form:\n",
    "```\n",
    "rating = 100 * (.8 * percent_accomodated_daily) * (.2 * satisfaction)\n",
    "```\n",
    "\n",
    "According to [NPR](https://www.npr.org/2021/11/09/1053828800/south-korea-seoul-halloween-crowd-safety-tips), maximum safe density is around 5 people/meter^2. For this metric, we'll assume that if you are more than 2 meters behind the front of the crowd, watching the baseball game becomes too difficult to be worthwhile. Let's also assume that people will only line up as far as right and left field extend to, and won't crowd home run territory. Thus, the maximum capacity of the baseball field is calculated as:\n",
    "```\n",
    "(right+left)*2*5\n",
    "```\n",
    "Were the right and left field are mesured in meters, 2 is the visibilty constant and 5 is the mosh-pit density.\n",
    "\n",
    "Now this begs the question \"how is satisfaction measured?\" While capacity is the most important issue, the availability of concession stands is also greatly important. We will assume that the average concession stand takes in two orders at a time, at a speed of a minute per order, for an efficiency of 2 orders/min. Ideally, the concession stand effiency will at least match the demand for concession. We will assume that in the 5 minnutes between innings, at most 20% of attendees will want a tasty snack. In this way, concession stand optimization will be calculated as:\n",
    "```\n",
    "min(2*5*stands/capacity*.2, 1)\n",
    "```\n",
    "\n",
    "Where 2 is the concessions constant and 5 is the amount of minutes between innings. \n",
    "\n",
    "All in all, the metric can be derived like so:\n",
    "```\n",
    "capacity_per_game = (right+left)*2*5\n",
    "capacity_per_day = capacity_per_game * (3 + hasLights) # hasLights is 0 or 1\n",
    "neighborhood_daily_capacity = summation(capacity_per_day)\n",
    "percent_accomodated_daily = min(1, neighborhood_daily_capacity / neighborhood_population)\n",
    "\n",
    "satisfaction = min(2*5*stands/capacity*.2, 1)\n",
    "\n",
    "rating = 100 * (.8 * percent_accomodated daily) * (.2 * satisfaction)\n",
    "```"
   ]
  },
  {
   "cell_type": "markdown",
   "metadata": {},
   "source": [
    "### Basic Information"
   ]
  },
  {
   "cell_type": "code",
   "execution_count": 19,
   "metadata": {},
   "outputs": [],
   "source": [
    "import pandas as pd\n",
    "import numpy as np\n",
    "fields = pd.read_csv(\"fields-Copy1.csv\")\n",
    "# From here: https://data.wprdc.org/dataset/2020-census-redistricting-data-extracts/resource/a8414ed5-c50f-417e-bb67-82b734660da6\n",
    "hoods = pd.read_csv(\"neighborhoods.csv\")\n",
    "%matplotlib inline\n",
    "import matplotlib.pyplot as plt"
   ]
  },
  {
   "cell_type": "code",
   "execution_count": 3,
   "metadata": {},
   "outputs": [
    {
     "name": "stdout",
     "output_type": "stream",
     "text": [
      "The neighborhoods with the most fields, at a grand total of 7 are ['Brighton Heights', 'Squirrel Hill South'].\n",
      "Out of the 90 neighborhoods in Pittsburgh, 54 have one field or more.\n",
      "That's only 60.0%!\n"
     ]
    }
   ],
   "source": [
    "dict = {}\n",
    "lotsOfFields = []\n",
    "\n",
    "mostFields = 0\n",
    "\n",
    "for index, row in fields.iterrows():\n",
    "    if row['Neighborhood'] in dict:\n",
    "        dict[row['Neighborhood']] += 1\n",
    "        if dict[row['Neighborhood']] > mostFields:\n",
    "            mostFields = dict[row['Neighborhood']]\n",
    "            lotsOfFields.clear()\n",
    "            lotsOfFields.append(row['Neighborhood'])\n",
    "        elif dict[row['Neighborhood']] == mostFields:\n",
    "            lotsOfFields.append(row['Neighborhood'])\n",
    "    else:\n",
    "        dict[row['Neighborhood']] = 1\n",
    "       \n",
    "print(\"The neighborhoods with the most fields, at a grand total of \" + str(mostFields) + \" are \" + str(lotsOfFields) + \".\")\n",
    "print(\"Out of the 90 neighborhoods in Pittsburgh, \" + str(len(dict)) + \" have one field or more.\") # Num of neighborhoods\n",
    "print(\"That's only \" + str(round(len(dict)/90*100, 0)) + \"%!\")"
   ]
  },
  {
   "cell_type": "markdown",
   "metadata": {},
   "source": [
    "### Looks like only 60% of neighborhoods are conducive to America's favorite pastime :("
   ]
  },
  {
   "cell_type": "markdown",
   "metadata": {},
   "source": [
    "For those neighborhoods that do have baseball fields, let's examine their distribution."
   ]
  },
  {
   "cell_type": "code",
   "execution_count": 4,
   "metadata": {},
   "outputs": [
    {
     "data": {
      "image/png": "[encoded data removed]",
      "text/plain": [
       "<Figure size 432x288 with 1 Axes>"
      ]
     },
     "metadata": {
      "needs_background": "light"
     },
     "output_type": "display_data"
    }
   ],
   "source": [
    "# First two lines from here\n",
    "# https://stackoverflow.com/questions/37266341/plotting-a-python-dict-in-order-of-key-values\n",
    "\n",
    "lists = sorted(dict.items())\n",
    "x, y = zip(*lists)\n",
    "\n",
    "# Alignment code from here: https://stackoverflow.com/questions/27083051/matplotlib-xticks-not-lining-up-with-histogram\n",
    "plt.hist(y, bins=np.arange(8)+0.5, rwidth = .9)\n",
    "plt.yticks(np.arange(0, 22, 3))\n",
    "plt.grid(axis = 'y')\n",
    "plt.show()"
   ]
  },
  {
   "cell_type": "code",
   "execution_count": 5,
   "metadata": {},
   "outputs": [
    {
     "name": "stdout",
     "output_type": "stream",
     "text": [
      "The mean and median of the number of fields in fielded neighborhoods are 2.26 and 2 respectively.\n",
      "The mean and median of the number of fields in ALL neighborhoods are 1.36 and 1 respectively.\n"
     ]
    }
   ],
   "source": [
    "import statistics\n",
    "\n",
    "numFieldsList = list(sorted(dict.values()))\n",
    "\n",
    "median = statistics.median(numFieldsList)\n",
    "mean = statistics.mean(numFieldsList)\n",
    "\n",
    "print(\"The mean and median of the number of fields in fielded neighborhoods are \" + str(round(mean,2)) + \" and \" + str(int(median)) + \" respectively.\")\n",
    "\n",
    "# Adding empty neighborhoods\n",
    "for i in range(90-54):\n",
    "    numFieldsList.append(0)\n",
    "    \n",
    "median = statistics.median(numFieldsList)\n",
    "mean = statistics.mean(numFieldsList)\n",
    "    \n",
    "print(\"The mean and median of the number of fields in ALL neighborhoods are \" + str(round(mean,2)) + \" and \" + str(int(median)) + \" respectively.\")"
   ]
  },
  {
   "cell_type": "markdown",
   "metadata": {},
   "source": [
    "Now, let's go ahead and find every neighborhoods capacity."
   ]
  },
  {
   "cell_type": "code",
   "execution_count": 75,
   "metadata": {},
   "outputs": [
    {
     "name": "stdout",
     "output_type": "stream",
     "text": [
      "{'Bedford Dwellings': 45000, 'Southside Slopes': 81050, 'Southside Flates': 10530, 'Lower Lawrenceville': 47220, 'Bankville': 32800, 'Allentown': 9000, 'Squirrel Hill South': 93750, 'Brighton Heights': 103650, 'Broadhead Manor': 9000, 'Brookline': 85620, 'Hazelwood': 64840, 'Overbrook': 9000, 'Lincoln-Lemington-Belmar': 30320, 'Windgap': 53200, 'Troy Hill': 52840, 'South Oakland': 12000, 'Bloomfield': 22080, 'Arlington': 16350, 'Mount Washington': 83040, 'Stanton Heights': 30090, 'Crafton Heights': 43080, 'East Hills': 22920, 'East Liberty': 9000, 'Hihgland Park': 12030, 'Upper Lawrenceville': 10770, 'Fineview': 20040, 'Garfield': 41920, 'Greenfield': 54900, 'Perry South': 40390, 'Elliott': 41680, 'Morningside': 98770, 'Marshall-Shadeland': 34250, 'Beechview': 38360, 'Central Lawrenceville': 51920, 'Terrace Village': 40220, 'Larimer': 9600, 'Beltzhoover': 47810, 'Allegheny Center': 29280, 'Manchester': 35600, 'Lincoln Place': 14340, 'Sheraden': 47910, 'Shadyside': 49350, 'Spring Garden': 9930, 'Oakwood': 9000, 'Southside Flats': 9000, 'New Homestead': 12000, 'Mt. Oliver Neigborhood': 24000, 'Carrick': 52400, 'Spring Hill-City View': 33730, 'West End': 14160, 'Polish Hill': 47720, 'Westwood': 38800, 'Squirrel Hill North': 9000, 'Homewood South': 41120}\n"
     ]
    }
   ],
   "source": [
    "# Make a dict where the key is the name of the neighborhood and the value is the total capacity per day\n",
    "# I.e. Loop through fields, add the capacity per day to the neighborhood dict\n",
    "\n",
    "import re\n",
    "\n",
    "dict = {}\n",
    "\n",
    "for index, row in fields.iterrows():\n",
    "    # Determines daily capacity\n",
    "    if (not(pd.isna(row['Left']) or pd.isna(row['Right']))):\n",
    "        \n",
    "        # This from here: https://bobbyhadz.com/blog/python-remove-all-non-numeric-characters-from-string\n",
    "        left = re.sub(\"[^0-9|.]\", \"\", str(row['Left']))\n",
    "        right = re.sub(\"[^0-9|.]\", \"\", str(row['Right']))\n",
    "        \n",
    "    else:\n",
    "        # DEFAULT VALS (TEMPORARY). Later, explain that these are chosen to be min possible values (not calculated yet, just guesses rn)\n",
    "        left = right = 150\n",
    "        \n",
    "    # Determines presence of lights\n",
    "    lights = 1 if row['Lights'] == 1 else 0\n",
    "\n",
    "    # Calculates daily capacity\n",
    "    capacityPerGame = (int(left) + int(right)) * 10\n",
    "    capacityPerDay = capacityPerGame * (3 + lights)\n",
    "        \n",
    "    # Adds to dict\n",
    "    if row['Neighborhood'] in dict:\n",
    "        dict[row['Neighborhood']] += capacityPerDay\n",
    "    else:\n",
    "        dict[row['Neighborhood']] = capacityPerDay\n",
    "\n",
    "print(dict)"
   ]
  },
  {
   "cell_type": "code",
   "execution_count": 76,
   "metadata": {},
   "outputs": [
    {
     "name": "stdout",
     "output_type": "stream",
     "text": [
      "{'Bedford Dwellings': 32.468, 'Southside Slopes': 103.117, 'Lower Lawrenceville': 17.88, 'Bankville': 23.665, 'Allentown': 3.905, 'Squirrel Hill South': 6.121, 'Brighton Heights': 14.588, 'Broadhead Manor': 7.895, 'Brookline': 6.554, 'Hazelwood': 16.673, 'Overbrook': 2.584, 'Lincoln-Lemington-Belmar': 8.339, 'Windgap': 39.583, 'Troy Hill': 19.977, 'South Oakland': 3.605, 'Bloomfield': 2.548, 'Arlington': 0.001, 'Mount Washington': 9.534, 'Stanton Heights': 6.797, 'Crafton Heights': 10.773, 'East Hills': 7.925, 'East Liberty': 1.455, 'Hihgland Park': 4.597, 'Upper Lawrenceville': 4.499, 'Fineview': 17.579, 'Garfield': 11.507, 'Greenfield': 7.561, 'Perry South': 10.728, 'Elliott': 19.006, 'Morningside': 30.372, 'Marshall-Shadeland': 8.465, 'Beechview': 5.05, 'Central Lawrenceville': 11.0, 'Terrace Village': 17.336, 'Larimer': 6.214, 'Beltzhoover': 29.807, 'Allegheny Center': 20.634, 'Manchester': 17.528, 'Lincoln Place': 4.545, 'Sheraden': 9.308, 'Shadyside': 3.222, 'Spring Garden': 12.634, 'Oakwood': 8.78, 'Southside Flats': 4.514, 'New Homestead': 13.086, 'Mt. Oliver Neigborhood': 26.172, 'Carrick': 5.092, 'Spring Hill-City View': 2.839, 'West End': 69.073, 'Polish Hill': 39.734, 'Westwood': 11.645, 'Squirrel Hill North': 0.758, 'Homewood South': 18.195}\n"
     ]
    }
   ],
   "source": [
    "POP = 300431\n",
    "\n",
    "for index, row in hoods.iterrows():\n",
    "    if row['Neighborhood'] in dict:\n",
    "        dict[row['Neighborhood']] = round(dict[row['Neighborhood']]/row['2020_Total_Population'],3)\n",
    "        \n",
    "# Manual data fixing:\n",
    "dict['Southside Slopes'] = round(dict['Southside Slopes']/hoods.loc[72,'2020_Total_Population'],3)\n",
    "dict['Broadhead Manor'] = round(dict['Broadhead Manor']/hoods.loc[31,'2020_Total_Population'],3)\n",
    "dict['Bankville'] = round(dict['Bankville']/hoods.loc[5,'2020_Total_Population'],3)\n",
    "dict['Arlington'] = round(dict['Arlington']/hoods.loc[4,'2020_Total_Population'],3)\n",
    "dict['Hihgland Park'] = round(dict['Hihgland Park']/hoods.loc[39,'2020_Total_Population'],3)\n",
    "dict['Mt. Oliver Neigborhood'] = round(dict['Mt. Oliver Neigborhood']/hoods.loc[53,'2020_Total_Population'],3)\n",
    "dict['Spring Hill-City View'] = round(dict['Spring Hill-City View']/hoods.loc[74,'2020_Total_Population'],3)\n",
    "dict['Southside Flats'] = round((dict['Southside Flats']+dict['Southside Flates'])/hoods.loc[71,'2020_Total_Population'],3)\n",
    "dict['Arlington'] = round(dict['Arlington']/hoods.loc[4,'2020_Total_Population'],3)\n",
    "del dict['Southside Flates']\n",
    "\n",
    "print(dict)"
   ]
  },
  {
   "cell_type": "code",
   "execution_count": null,
   "metadata": {},
   "outputs": [],
   "source": []
  }
 ],
 "metadata": {
  "kernelspec": {
   "display_name": "Python 3",
   "language": "python",
   "name": "python3"
  },
  "language_info": {
   "codemirror_mode": {
    "name": "ipython",
    "version": 3
   },
   "file_extension": ".py",
   "mimetype": "text/x-python",
   "name": "python",
   "nbconvert_exporter": "python",
   "pygments_lexer": "ipython3",
   "version": "3.8.3"
  }
 },
 "nbformat": 4,
 "nbformat_minor": 4
}
