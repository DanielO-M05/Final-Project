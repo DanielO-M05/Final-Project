{
 "cells": [
  {
   "cell_type": "markdown",
   "metadata": {},
   "source": [
    "# Skill lab 1\n",
    "1. Jake Shaw\n",
    "2. 8/30/23\n",
    "\n"
   ]
  },
  {
   "cell_type": "markdown",
   "metadata": {},
   "source": [
    "# Markdown Exercises\n",
    "  **Why are you or are you not interested in learning to code?** *I am planning on getting a degree in computer science*  \n",
    "  **What do you hope being able to program will enable you to do?** *I hope it can get me a passing grade.*\n",
    "  1. Python \n",
    "  2. Jupyter\n",
    "  3. More technically literate\n",
    "  4. An idea of which coding is for me\n",
    "  5. How to navigate jupyterhub better"
   ]
  },
  {
   "cell_type": "markdown",
   "metadata": {},
   "source": [
    "![ALT](https://media.giphy.com/media/xT5LMHxhOfscxPfIfm/giphy.gif)"
   ]
  },
  {
   "cell_type": "markdown",
   "metadata": {},
   "source": [
    "## Jupyter Notebook Exercises"
   ]
  },
  {
   "cell_type": "code",
   "execution_count": null,
   "metadata": {},
   "outputs": [],
   "source": [
    "name = input(prompt=\"What is your name? \")\n",
    "print(\"Hello\", name, \"!\")"
   ]
  },
  {
   "cell_type": "markdown",
   "metadata": {},
   "source": [
    "It asked for my name then said hello using my name."
   ]
  },
  {
   "cell_type": "code",
   "execution_count": null,
   "metadata": {},
   "outputs": [],
   "source": [
    "name = input(prompt=\"What is your name? \")\n",
    "print(\"Hello\", name, \" I am a computer!\")"
   ]
  },
  {
   "cell_type": "markdown",
   "metadata": {},
   "source": [
    "All I did was add to the hello and had it introduce itself."
   ]
  },
  {
   "cell_type": "code",
   "execution_count": null,
   "metadata": {},
   "outputs": [],
   "source": [
    "%matplotlib inline\n",
    "import pandas as pd\n",
    "# Load the PGH 311 Complaint data\n",
    "data_url = \\\n",
    "\"https://data.wprdc.org/datastore/dump/76fda9d0-69be-4dd5-8108-0de7907fc5a4\"\n",
    "complaints = pd.read_csv(data_url, parse_dates=True, index_col=\"CREATED_ON\")\n",
    "# Produce a graph that shows the number of complaints per month\n",
    "complaints.resample(\"M\").size().plot();"
   ]
  },
  {
   "cell_type": "markdown",
   "metadata": {},
   "source": [
    "I noticed a chart and I do not know what it is describing."
   ]
  },
  {
   "cell_type": "markdown",
   "metadata": {},
   "source": [
    "![alt text](https://media.giphy.com/media/tmQrpA8zpG4a16SSxm/giphy-downsized-large.gif)"
   ]
  },
  {
   "cell_type": "code",
   "execution_count": null,
   "metadata": {},
   "outputs": [],
   "source": []
  },
  {
   "cell_type": "code",
   "execution_count": null,
   "metadata": {},
   "outputs": [],
   "source": []
  },
  {
   "cell_type": "code",
   "execution_count": null,
   "metadata": {},
   "outputs": [],
   "source": []
  },
  {
   "cell_type": "code",
   "execution_count": null,
   "metadata": {},
   "outputs": [],
   "source": []
  },
  {
   "cell_type": "code",
   "execution_count": null,
   "metadata": {},
   "outputs": [],
   "source": []
  }
 ],
 "metadata": {
  "kernelspec": {
   "display_name": "Python 3",
   "language": "python",
   "name": "python3"
  },
  "language_info": {
   "codemirror_mode": {
    "name": "ipython",
    "version": 3
   },
   "file_extension": ".py",
   "mimetype": "text/x-python",
   "name": "python",
   "nbconvert_exporter": "python",
   "pygments_lexer": "ipython3",
   "version": "3.8.3"
  }
 },
 "nbformat": 4,
 "nbformat_minor": 4
}
