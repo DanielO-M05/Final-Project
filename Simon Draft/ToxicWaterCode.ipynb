{
 "cells": [
  {
   "cell_type": "code",
   "execution_count": 6,
   "metadata": {},
   "outputs": [
    {
     "name": "stdout",
     "output_type": "stream",
     "text": [
      "These are the cities with the least toxic water emmissions in Allegheny county\n"
     ]
    },
    {
     "data": {
      "text/plain": [
       "MONONGAHELA         1\n",
       "SOUTH PARK          2\n",
       "TARENTUM            3\n",
       "NEVILLE ISLAND      5\n",
       "SHARPSBURG          6\n",
       "DRAVOSBURG          7\n",
       "BLAWNOX            10\n",
       "CLINTON            12\n",
       "LIBERTY BOROUGH    19\n",
       "RANKIN             20\n",
       "Name: CITY_NAME, dtype: int64"
      ]
     },
     "execution_count": 6,
     "metadata": {},
     "output_type": "execute_result"
    }
   ],
   "source": [
    "import pandas as pd\n",
    "import numpy as np\n",
    "\n",
    "waterReleases = pd.read_csv(\"WaterReleases.csv\", index_col=\"_id\")\n",
    "\n",
    "releaseCities = waterReleases['CITY_NAME'].value_counts().sort_values(ascending=True)\n",
    "\n",
    "print(\"These are the cities with the least toxic water emmissions in Allegheny county\")\n",
    "releaseCities.head(10)"
   ]
  },
  {
   "cell_type": "code",
   "execution_count": null,
   "metadata": {},
   "outputs": [],
   "source": []
  }
 ],
 "metadata": {
  "kernelspec": {
   "display_name": "Python 3",
   "language": "python",
   "name": "python3"
  },
  "language_info": {
   "codemirror_mode": {
    "name": "ipython",
    "version": 3
   },
   "file_extension": ".py",
   "mimetype": "text/x-python",
   "name": "python",
   "nbconvert_exporter": "python",
   "pygments_lexer": "ipython3",
   "version": "3.8.3"
  }
 },
 "nbformat": 4,
 "nbformat_minor": 4
}
