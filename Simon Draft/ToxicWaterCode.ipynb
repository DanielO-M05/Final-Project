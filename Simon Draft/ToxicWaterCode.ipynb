{
 "cells": [
  {
   "cell_type": "code",
   "execution_count": 3,
   "metadata": {},
   "outputs": [],
   "source": [
    "import pandas as pd\n",
    "import numpy as np\n",
    "\n",
    "waterReleases = pd.read_csv(\"WaterReleases.csv\", index_col=\"_id\")"
   ]
  },
  {
   "cell_type": "code",
   "execution_count": 4,
   "metadata": {},
   "outputs": [
    {
     "name": "stdout",
     "output_type": "stream",
     "text": [
      "These are the total reported release amounts by city\n"
     ]
    },
    {
     "data": {
      "text/plain": [
       "CITY_NAME\n",
       "CLAIRTON           5.064065e+07\n",
       "BRACKENRIDGE       8.437796e+06\n",
       "PITTSBURGH         2.453535e+06\n",
       "BRADDOCK           1.113447e+06\n",
       "WEST MIFFLIN       4.901109e+05\n",
       "LEETSDALE          5.588544e+04\n",
       "SPRINGDALE         2.971075e+04\n",
       "JEFFERSON HILLS    1.595060e+04\n",
       "BRIDGEVILLE        5.168190e+03\n",
       "INDIANOLA          1.537550e+03\n",
       "CORAOPOLIS         1.438300e+03\n",
       "CARNEGIE           8.120000e+02\n",
       "OAKMONT            5.240000e+02\n",
       "SEWICKLEY          5.000000e+02\n",
       "HOMESTEAD          1.100000e+02\n",
       "WEST ELIZABETH     1.540000e+00\n",
       "MCKEESPORT         1.000000e-01\n",
       "DUQUESNE           1.000000e-01\n",
       "CHESWICK           1.000000e-02\n",
       "NEVILLE ISLAND     0.000000e+00\n",
       "OAKDALE            0.000000e+00\n",
       "BAKERSTOWN         0.000000e+00\n",
       "RANKIN             0.000000e+00\n",
       "SHARPSBURG         0.000000e+00\n",
       "SOUTH PARK         0.000000e+00\n",
       "MUNHALL            0.000000e+00\n",
       "TARENTUM           0.000000e+00\n",
       "TURTLE CREEK       0.000000e+00\n",
       "VERONA             0.000000e+00\n",
       "NATRONA HEIGHTS    0.000000e+00\n",
       "LIBERTY BOROUGH    0.000000e+00\n",
       "MONROEVILLE        0.000000e+00\n",
       "GLASSPORT          0.000000e+00\n",
       "BUNOLA             0.000000e+00\n",
       "CLINTON            0.000000e+00\n",
       "CREIGHTON          0.000000e+00\n",
       "DRAVOSBURG         0.000000e+00\n",
       "EAST PITTSBURGH    0.000000e+00\n",
       "GIBSONIA           0.000000e+00\n",
       "GLENSHAW           0.000000e+00\n",
       "MONONGAHELA        0.000000e+00\n",
       "HARWICK            0.000000e+00\n",
       "HEIDELBERG         0.000000e+00\n",
       "BLAWNOX            0.000000e+00\n",
       "MC DONALD          0.000000e+00\n",
       "MC KEES ROCKS      0.000000e+00\n",
       "MC KEESPORT        0.000000e+00\n",
       "WILMERDING         0.000000e+00\n",
       "Name: TOTAL_RELEASE, dtype: float64"
      ]
     },
     "execution_count": 4,
     "metadata": {},
     "output_type": "execute_result"
    }
   ],
   "source": [
    "print(\"These are the total reported release amounts by city\")\n",
    "waterReleases.groupby('CITY_NAME')['TOTAL_RELEASE'].sum().sort_values(ascending=False)"
   ]
  },
  {
   "cell_type": "code",
   "execution_count": 5,
   "metadata": {},
   "outputs": [
    {
     "name": "stdout",
     "output_type": "stream",
     "text": [
      "These are the cities with the least toxic water emmissions in Allegheny county\n"
     ]
    },
    {
     "data": {
      "text/plain": [
       "MONONGAHELA         1\n",
       "SOUTH PARK          2\n",
       "TARENTUM            3\n",
       "NEVILLE ISLAND      5\n",
       "SHARPSBURG          6\n",
       "DRAVOSBURG          7\n",
       "BLAWNOX            10\n",
       "CLINTON            12\n",
       "LIBERTY BOROUGH    19\n",
       "RANKIN             20\n",
       "Name: CITY_NAME, dtype: int64"
      ]
     },
     "execution_count": 5,
     "metadata": {},
     "output_type": "execute_result"
    }
   ],
   "source": [
    "leastReleaseCities = waterReleases['CITY_NAME'].value_counts().sort_values(ascending=True)\n",
    "\n",
    "print(\"These are the cities with the least toxic water emmissions in Allegheny county\")\n",
    "leastReleaseCities.head(10)"
   ]
  },
  {
   "cell_type": "code",
   "execution_count": 6,
   "metadata": {},
   "outputs": [
    {
     "name": "stdout",
     "output_type": "stream",
     "text": [
      "These are the cities with the lowest total pounds of reported toxic water emmissions\n"
     ]
    },
    {
     "data": {
      "text/plain": [
       "CITY_NAME\n",
       "BAKERSTOWN         0.00\n",
       "MC DONALD          0.00\n",
       "MC KEES ROCKS      0.00\n",
       "MC KEESPORT        0.00\n",
       "MONONGAHELA        0.00\n",
       "MONROEVILLE        0.00\n",
       "MUNHALL            0.00\n",
       "NATRONA HEIGHTS    0.00\n",
       "NEVILLE ISLAND     0.00\n",
       "OAKDALE            0.00\n",
       "RANKIN             0.00\n",
       "SHARPSBURG         0.00\n",
       "SOUTH PARK         0.00\n",
       "TARENTUM           0.00\n",
       "TURTLE CREEK       0.00\n",
       "VERONA             0.00\n",
       "LIBERTY BOROUGH    0.00\n",
       "HEIDELBERG         0.00\n",
       "WILMERDING         0.00\n",
       "GLENSHAW           0.00\n",
       "BUNOLA             0.00\n",
       "BLAWNOX            0.00\n",
       "HARWICK            0.00\n",
       "CLINTON            0.00\n",
       "DRAVOSBURG         0.00\n",
       "EAST PITTSBURGH    0.00\n",
       "CREIGHTON          0.00\n",
       "GLASSPORT          0.00\n",
       "GIBSONIA           0.00\n",
       "CHESWICK           0.01\n",
       "Name: TOTAL_RELEASE, dtype: float64"
      ]
     },
     "execution_count": 6,
     "metadata": {},
     "output_type": "execute_result"
    }
   ],
   "source": [
    "print(\"These are the cities with the lowest total pounds of reported toxic water emmissions\")\n",
    "waterReleaseByLeastAmount = waterReleases.groupby('CITY_NAME')['TOTAL_RELEASE'].sum().sort_values(ascending=True)\n",
    "waterReleaseByLeastAmount.head(30)"
   ]
  },
  {
   "cell_type": "code",
   "execution_count": 7,
   "metadata": {},
   "outputs": [
    {
     "name": "stdout",
     "output_type": "stream",
     "text": [
      "These are the cities with the most toxic water emmissions in Allegheny county\n"
     ]
    },
    {
     "data": {
      "text/plain": [
       "PITTSBURGH         4981\n",
       "CLAIRTON           1872\n",
       "SPRINGDALE         1407\n",
       "BRIDGEVILLE         744\n",
       "BRADDOCK            703\n",
       "JEFFERSON HILLS     634\n",
       "BRACKENRIDGE        541\n",
       "WEST MIFFLIN        484\n",
       "CORAOPOLIS          363\n",
       "INDIANOLA           353\n",
       "Name: CITY_NAME, dtype: int64"
      ]
     },
     "execution_count": 7,
     "metadata": {},
     "output_type": "execute_result"
    }
   ],
   "source": [
    "mostReleaseCities = waterReleases['CITY_NAME'].value_counts()\n",
    "\n",
    "print(\"These are the cities with the most toxic water emmissions in Allegheny county\")\n",
    "mostReleaseCities.head(10)"
   ]
  },
  {
   "cell_type": "code",
   "execution_count": 12,
   "metadata": {},
   "outputs": [
    {
     "name": "stdout",
     "output_type": "stream",
     "text": [
      "85\n"
     ]
    }
   ],
   "source": [
    "total = 0\n",
    "for num in leastReleaseCities.head(10):\n",
    "    total = num + total\n",
    "\n",
    "for \n",
    "print(total)"
   ]
  },
  {
   "cell_type": "code",
   "execution_count": 45,
   "metadata": {},
   "outputs": [
    {
     "name": "stdout",
     "output_type": "stream",
     "text": [
      "These are the cities with the most total pounds of reported toxic water emmissions\n"
     ]
    },
    {
     "data": {
      "text/plain": [
       "CITY_NAME\n",
       "CLAIRTON           5.064065e+07\n",
       "BRACKENRIDGE       8.437796e+06\n",
       "PITTSBURGH         2.453535e+06\n",
       "BRADDOCK           1.113447e+06\n",
       "WEST MIFFLIN       4.901109e+05\n",
       "LEETSDALE          5.588544e+04\n",
       "SPRINGDALE         2.971075e+04\n",
       "JEFFERSON HILLS    1.595060e+04\n",
       "BRIDGEVILLE        5.168190e+03\n",
       "INDIANOLA          1.537550e+03\n",
       "Name: TOTAL_RELEASE, dtype: float64"
      ]
     },
     "execution_count": 45,
     "metadata": {},
     "output_type": "execute_result"
    }
   ],
   "source": [
    "print(\"These are the cities with the most total pounds of reported toxic water emmissions\")\n",
    "waterReleaseByMostAmount = waterReleases.groupby('CITY_NAME')['TOTAL_RELEASE'].sum().sort_values(ascending=False)\n",
    "waterReleaseByMostAmount.head(10)"
   ]
  },
  {
   "cell_type": "code",
   "execution_count": 42,
   "metadata": {},
   "outputs": [
    {
     "name": "stdout",
     "output_type": "stream",
     "text": [
      "This shows the total toxic chemicals released by year\n"
     ]
    },
    {
     "data": {
      "text/plain": [
       "<matplotlib.axes._subplots.AxesSubplot at 0x7f32b7da0c70>"
      ]
     },
     "execution_count": 42,
     "metadata": {},
     "output_type": "execute_result"
    },
    {
     "data": {
      "image/png": "[encoded data removed]",
      "text/plain": [
       "<Figure size 432x288 with 1 Axes>"
      ]
     },
     "metadata": {
      "needs_background": "light"
     },
     "output_type": "display_data"
    }
   ],
   "source": [
    "print(\"This shows the total toxic chemicals released by year\")\n",
    "plotYearReleases = waterReleases.groupby('REPORTING_YEAR')['TOTAL_RELEASE'].sum()\n",
    "\n",
    "plotYearReleases.plot()"
   ]
  },
  {
   "cell_type": "code",
   "execution_count": 36,
   "metadata": {},
   "outputs": [
    {
     "name": "stdout",
     "output_type": "stream",
     "text": [
      "This shows the highest total pounds of released toxic chemicals by year\n"
     ]
    },
    {
     "data": {
      "text/plain": [
       "REPORTING_YEAR\n",
       "2005    3.974812e+06\n",
       "2004    3.960386e+06\n",
       "2022    3.651832e+06\n",
       "2006    3.223742e+06\n",
       "2008    3.021827e+06\n",
       "2018    2.932832e+06\n",
       "2014    2.857531e+06\n",
       "2010    2.743778e+06\n",
       "2007    2.655607e+06\n",
       "2021    2.550560e+06\n",
       "2011    2.435896e+06\n",
       "2019    2.414224e+06\n",
       "2012    2.321276e+06\n",
       "2015    2.274842e+06\n",
       "2020    2.160415e+06\n",
       "2017    2.149568e+06\n",
       "2016    1.718962e+06\n",
       "2003    1.679366e+06\n",
       "2000    1.522594e+06\n",
       "1999    1.495336e+06\n",
       "1995    1.321758e+06\n",
       "2001    1.221734e+06\n",
       "2009    1.210684e+06\n",
       "1998    1.154478e+06\n",
       "2002    1.056357e+06\n",
       "1996    1.036793e+06\n",
       "1997    8.770140e+05\n",
       "1987    8.529750e+05\n",
       "2013    7.510428e+05\n",
       "1989    5.516710e+05\n",
       "1988    4.340380e+05\n",
       "1991    2.935470e+05\n",
       "1994    2.468010e+05\n",
       "1990    1.846440e+05\n",
       "1992    1.768500e+05\n",
       "1993    1.314060e+05\n",
       "Name: TOTAL_RELEASE, dtype: float64"
      ]
     },
     "execution_count": 36,
     "metadata": {},
     "output_type": "execute_result"
    }
   ],
   "source": [
    "print(\"This shows the highest total pounds of released toxic chemicals by year\")\n",
    "waterReleases.groupby('REPORTING_YEAR')['TOTAL_RELEASE'].sum().sort_values(ascending=False)"
   ]
  },
  {
   "cell_type": "code",
   "execution_count": null,
   "metadata": {},
   "outputs": [],
   "source": []
  }
 ],
 "metadata": {
  "kernelspec": {
   "display_name": "Python 3",
   "language": "python",
   "name": "python3"
  },
  "language_info": {
   "codemirror_mode": {
    "name": "ipython",
    "version": 3
   },
   "file_extension": ".py",
   "mimetype": "text/x-python",
   "name": "python",
   "nbconvert_exporter": "python",
   "pygments_lexer": "ipython3",
   "version": "3.8.3"
  }
 },
 "nbformat": 4,
 "nbformat_minor": 4
}
