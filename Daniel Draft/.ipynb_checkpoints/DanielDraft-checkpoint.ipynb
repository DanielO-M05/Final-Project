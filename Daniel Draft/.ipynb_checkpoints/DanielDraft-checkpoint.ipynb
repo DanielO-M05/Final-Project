{
 "cells": [
  {
   "cell_type": "markdown",
   "metadata": {},
   "source": [
    "\"Show your work, but not all of it. When working on a project, I often have a couple sets of notebooks. One is a set of working notebooks where I do my data exploration, hack on the code, and go down wrong paths. When I finally am able to pull together the code that generates the result I want, I move just that code into my “final draft.” I only want to see the data cleaning, transformation, analysis, and visualization associated with the specific argument you are making in the final notebook and presentation.\""
   ]
  },
  {
   "cell_type": "code",
   "execution_count": 8,
   "metadata": {},
   "outputs": [
    {
     "data": {
      "text/plain": [
       "['Final Drafts', 'README.md', '.git', '.ipynb_checkpoints', 'Daniel Draft']"
      ]
     },
     "execution_count": 8,
     "metadata": {},
     "output_type": "execute_result"
    }
   ],
   "source": [
    "# load pandas (always do this first)\n",
    "import pandas as pd\n",
    "import numpy as np\n",
    "\n",
    "import os\n",
    "os.listdir()"
   ]
  },
  {
   "cell_type": "code",
   "execution_count": 16,
   "metadata": {},
   "outputs": [],
   "source": [
    "# load data from a downloaded data set\n",
    "fields = pd.read_csv(\"Daniel Draft/fields.csv\")"
   ]
  },
  {
   "cell_type": "code",
   "execution_count": 24,
   "metadata": {},
   "outputs": [
    {
     "name": "stdout",
     "output_type": "stream",
     "text": [
      "['Brighton Heights', 'Squirrel Hill South']\n",
      "7\n",
      "{'Bedford Dwellings': 2, 'Southside Slopes': 6, 'Southside Flates': 1, 'Lower Lawrenceville': 3, 'Bankville': 2, 'Allentown': 1, 'Squirrel Hill South': 7, 'Brighton Heights': 7, 'Broadhead Manor': 1, 'Brookline': 6, 'Hazelwood': 4, 'Overbrook': 1, 'Lincoln-Lemington-Belmar': 2, 'Windgap': 2, 'Troy Hill': 3, 'South Oakland': 1, 'Bloomfield': 1, 'Arlington': 1, 'Mount Washington': 4, 'Stanton Heights': 2, 'Crafton Heights': 3, 'East Hills': 1, 'East Liberty': 1, 'Hihgland Park': 1, 'Upper Lawrenceville': 1, 'Fineview': 1, 'Garfield': 2, 'Greenfield': 3, 'Perry South': 2, 'Elliott': 2, 'Morningside': 6, 'Marshall-Shadeland': 2, 'Beechview': 3, 'Central Lawrenceville': 2, 'Terrace Village': 2, 'Larimer': 1, 'Beltzhoover': 3, 'Allegheny Center': 2, 'Manchester': 2, 'Lincoln Place': 1, 'Sheraden': 3, 'Shadyside': 3, 'Spring Garden': 1, 'Oakwood': 1, 'Southside Flats': 1, 'New Homestead': 1, 'Mt. Oliver Neigborhood': 1, 'Carrick': 3, 'Spring Hill-City View': 2, 'West End': 1, 'Polish Hill': 2, 'Westwood': 2, 'Squirrel Hill North': 1, 'Homewood South': 2}\n"
     ]
    }
   ],
   "source": [
    "dict = {}\n",
    "lotsOfFields = []\n",
    "\n",
    "mostFields = 0\n",
    "\n",
    "for index, row in fields.iterrows():\n",
    "    if row['Neighborhood'] in dict:\n",
    "        dict[row['Neighborhood']] += 1\n",
    "        if dict[row['Neighborhood']] > mostFields:\n",
    "            mostFields = dict[row['Neighborhood']]\n",
    "            lotsOfFields.clear()\n",
    "            lotsOfFields.append(row['Neighborhood'])\n",
    "        elif dict[row['Neighborhood']] == mostFields:\n",
    "            lotsOfFields.append(row['Neighborhood'])\n",
    "    else:\n",
    "        dict[row['Neighborhood']] = 1\n",
    "       \n",
    "print(lotsOfFields)\n",
    "print(mostFields)\n",
    "print(dict)"
   ]
  },
  {
   "cell_type": "raw",
   "metadata": {},
   "source": []
  },
  {
   "cell_type": "code",
   "execution_count": null,
   "metadata": {},
   "outputs": [],
   "source": []
  }
 ],
 "metadata": {
  "kernelspec": {
   "display_name": "Python 3",
   "language": "python",
   "name": "python3"
  },
  "language_info": {
   "codemirror_mode": {
    "name": "ipython",
    "version": 3
   },
   "file_extension": ".py",
   "mimetype": "text/x-python",
   "name": "python",
   "nbconvert_exporter": "python",
   "pygments_lexer": "ipython3",
   "version": "3.8.3"
  }
 },
 "nbformat": 4,
 "nbformat_minor": 4
}
