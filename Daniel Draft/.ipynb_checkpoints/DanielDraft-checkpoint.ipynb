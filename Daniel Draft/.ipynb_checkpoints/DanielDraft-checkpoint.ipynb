{
 "cells": [
  {
   "cell_type": "markdown",
   "metadata": {},
   "source": [
    "\"Show your work, but not all of it. When working on a project, I often have a couple sets of notebooks. One is a set of working notebooks where I do my data exploration, hack on the code, and go down wrong paths. When I finally am able to pull together the code that generates the result I want, I move just that code into my “final draft.” I only want to see the data cleaning, transformation, analysis, and visualization associated with the specific argument you are making in the final notebook and presentation.\""
   ]
  },
  {
   "cell_type": "code",
   "execution_count": 21,
   "metadata": {},
   "outputs": [],
   "source": [
    "# load pandas (always do this first)\n",
    "import pandas as pd\n",
    "import numpy as np\n",
    "\n",
    "%matplotlib inline\n",
    "import matplotlib.pyplot as plt"
   ]
  },
  {
   "cell_type": "code",
   "execution_count": 7,
   "metadata": {},
   "outputs": [],
   "source": [
    "# load data from a downloaded data set\n",
    "fields = pd.read_csv(\"fields.csv\")"
   ]
  },
  {
   "cell_type": "code",
   "execution_count": 8,
   "metadata": {},
   "outputs": [
    {
     "name": "stdout",
     "output_type": "stream",
     "text": [
      "['Brighton Heights', 'Squirrel Hill South']\n",
      "7\n",
      "54\n",
      "{'Bedford Dwellings': 2, 'Southside Slopes': 6, 'Southside Flates': 1, 'Lower Lawrenceville': 3, 'Bankville': 2, 'Allentown': 1, 'Squirrel Hill South': 7, 'Brighton Heights': 7, 'Broadhead Manor': 1, 'Brookline': 6, 'Hazelwood': 4, 'Overbrook': 1, 'Lincoln-Lemington-Belmar': 2, 'Windgap': 2, 'Troy Hill': 3, 'South Oakland': 1, 'Bloomfield': 1, 'Arlington': 1, 'Mount Washington': 4, 'Stanton Heights': 2, 'Crafton Heights': 3, 'East Hills': 1, 'East Liberty': 1, 'Hihgland Park': 1, 'Upper Lawrenceville': 1, 'Fineview': 1, 'Garfield': 2, 'Greenfield': 3, 'Perry South': 2, 'Elliott': 2, 'Morningside': 6, 'Marshall-Shadeland': 2, 'Beechview': 3, 'Central Lawrenceville': 2, 'Terrace Village': 2, 'Larimer': 1, 'Beltzhoover': 3, 'Allegheny Center': 2, 'Manchester': 2, 'Lincoln Place': 1, 'Sheraden': 3, 'Shadyside': 3, 'Spring Garden': 1, 'Oakwood': 1, 'Southside Flats': 1, 'New Homestead': 1, 'Mt. Oliver Neigborhood': 1, 'Carrick': 3, 'Spring Hill-City View': 2, 'West End': 1, 'Polish Hill': 2, 'Westwood': 2, 'Squirrel Hill North': 1, 'Homewood South': 2}\n"
     ]
    }
   ],
   "source": [
    "dict = {}\n",
    "lotsOfFields = []\n",
    "\n",
    "mostFields = 0\n",
    "\n",
    "for index, row in fields.iterrows():\n",
    "    if row['Neighborhood'] in dict:\n",
    "        dict[row['Neighborhood']] += 1\n",
    "        if dict[row['Neighborhood']] > mostFields:\n",
    "            mostFields = dict[row['Neighborhood']]\n",
    "            lotsOfFields.clear()\n",
    "            lotsOfFields.append(row['Neighborhood'])\n",
    "        elif dict[row['Neighborhood']] == mostFields:\n",
    "            lotsOfFields.append(row['Neighborhood'])\n",
    "    else:\n",
    "        dict[row['Neighborhood']] = 1\n",
    "       \n",
    "print(lotsOfFields)\n",
    "print(mostFields)\n",
    "print(len(dict)) # Num of neighborhoods\n",
    "print(dict)\n"
   ]
  },
  {
   "cell_type": "code",
   "execution_count": 93,
   "metadata": {},
   "outputs": [
    {
     "data": {
      "image/png": "[encoded data removed]",
      "text/plain": [
       "<Figure size 432x288 with 1 Axes>"
      ]
     },
     "metadata": {
      "needs_background": "light"
     },
     "output_type": "display_data"
    }
   ],
   "source": [
    "# First two lines from here\n",
    "# https://stackoverflow.com/questions/37266341/plotting-a-python-dict-in-order-of-key-values\n",
    "\n",
    "lists = sorted(dict.items(), key=lambda kv: kv[1], reverse=True)\n",
    "x, y = zip(*lists)\n",
    "\n",
    "# Alignment code from here: https://stackoverflow.com/questions/27083051/matplotlib-xticks-not-lining-up-with-histogram\n",
    "plt.hist(y, bins=np.arange(8)+0.5, rwidth = .9)\n",
    "plt.yticks(np.arange(0, 22, 3))\n",
    "plt.grid(axis = 'y')\n",
    "plt.show()"
   ]
  },
  {
   "cell_type": "code",
   "execution_count": 2,
   "metadata": {},
   "outputs": [
    {
     "name": "stdout",
     "output_type": "stream",
     "text": [
      "hi\n"
     ]
    }
   ],
   "source": []
  },
  {
   "cell_type": "code",
   "execution_count": null,
   "metadata": {},
   "outputs": [],
   "source": []
  }
 ],
 "metadata": {
  "kernelspec": {
   "display_name": "Python 3",
   "language": "python",
   "name": "python3"
  },
  "language_info": {
   "codemirror_mode": {
    "name": "ipython",
    "version": 3
   },
   "file_extension": ".py",
   "mimetype": "text/x-python",
   "name": "python",
   "nbconvert_exporter": "python",
   "pygments_lexer": "ipython3",
   "version": "3.8.3"
  }
 },
 "nbformat": 4,
 "nbformat_minor": 4
}
